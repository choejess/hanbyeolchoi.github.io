{
 "cells": [
  {
   "cell_type": "markdown",
   "metadata": {},
   "source": [
    "# DATS-6103 Project 2 - Analysis of Unemployment Rate"
   ]
  },
  {
   "cell_type": "markdown",
   "metadata": {},
   "source": [
    "The unemployment rate is often used as an indicator to evaluate the health of an economy. The unemployment rate is likely to decrease as the economy grow. Also, it also is likely to increase if the economy enters recession. By analyzing and studying the trends of the unemployment rate, it could be beneficial in identifying the current situation of the economy and leads to a solution so improve. \n",
    "\n",
    "In this project, I will be analyzing the unemployment rate (% of total labor force ages: 15-24).\n",
    "\n",
    "The dataset was obtained from The World Bank:https://data.worldbank.org/indicator/SL.UEM.TOTL.ZS"
   ]
  },
  {
   "cell_type": "markdown",
   "metadata": {},
   "source": [
    "# 1. Pre-analysis and Data Cleaning"
   ]
  },
  {
   "cell_type": "code",
   "execution_count": 220,
   "metadata": {},
   "outputs": [
    {
     "data": {
      "text/html": [
       "        <script type=\"text/javascript\">\n",
       "        window.PlotlyConfig = {MathJaxConfig: 'local'};\n",
       "        if (window.MathJax) {MathJax.Hub.Config({SVG: {font: \"STIX-Web\"}});}\n",
       "        if (typeof require !== 'undefined') {\n",
       "        require.undef(\"plotly\");\n",
       "        requirejs.config({\n",
       "            paths: {\n",
       "                'plotly': ['https://cdn.plot.ly/plotly-latest.min']\n",
       "            }\n",
       "        });\n",
       "        require(['plotly'], function(Plotly) {\n",
       "            window._Plotly = Plotly;\n",
       "        });\n",
       "        }\n",
       "        </script>\n",
       "        "
      ]
     },
     "metadata": {},
     "output_type": "display_data"
    }
   ],
   "source": [
    "# Loading required libraries and packages\n",
    "\n",
    "import pandas as pd\n",
    "import numpy as np\n",
    "import matplotlib.pyplot as plt\n",
    "%matplotlib inline\n",
    "import plotly.offline as py\n",
    "py.init_notebook_mode(connected=True)\n",
    "import plotly.graph_objects as go\n",
    "import plotly.tools as tls\n",
    "import warnings\n",
    "warnings.filterwarnings('ignore')"
   ]
  },
  {
   "cell_type": "code",
   "execution_count": 221,
   "metadata": {},
   "outputs": [
    {
     "data": {
      "text/html": [
       "<div>\n",
       "<style>\n",
       "    .dataframe thead tr:only-child th {\n",
       "        text-align: right;\n",
       "    }\n",
       "\n",
       "    .dataframe thead th {\n",
       "        text-align: left;\n",
       "    }\n",
       "\n",
       "    .dataframe tbody tr th {\n",
       "        vertical-align: top;\n",
       "    }\n",
       "</style>\n",
       "<table border=\"1\" class=\"dataframe\">\n",
       "  <thead>\n",
       "    <tr style=\"text-align: right;\">\n",
       "      <th></th>\n",
       "      <th>Country Name</th>\n",
       "      <th>Country Code</th>\n",
       "      <th>2010</th>\n",
       "      <th>2011</th>\n",
       "      <th>2012</th>\n",
       "      <th>2013</th>\n",
       "      <th>2014</th>\n",
       "    </tr>\n",
       "  </thead>\n",
       "  <tbody>\n",
       "    <tr>\n",
       "      <th>0</th>\n",
       "      <td>Afghanistan</td>\n",
       "      <td>AFG</td>\n",
       "      <td>20.600000</td>\n",
       "      <td>20.900000</td>\n",
       "      <td>19.700001</td>\n",
       "      <td>21.100000</td>\n",
       "      <td>20.799999</td>\n",
       "    </tr>\n",
       "    <tr>\n",
       "      <th>1</th>\n",
       "      <td>Angola</td>\n",
       "      <td>AGO</td>\n",
       "      <td>10.800000</td>\n",
       "      <td>10.700000</td>\n",
       "      <td>10.700000</td>\n",
       "      <td>10.600000</td>\n",
       "      <td>10.500000</td>\n",
       "    </tr>\n",
       "    <tr>\n",
       "      <th>2</th>\n",
       "      <td>Albania</td>\n",
       "      <td>ALB</td>\n",
       "      <td>25.799999</td>\n",
       "      <td>27.000000</td>\n",
       "      <td>28.299999</td>\n",
       "      <td>28.700001</td>\n",
       "      <td>29.200001</td>\n",
       "    </tr>\n",
       "    <tr>\n",
       "      <th>3</th>\n",
       "      <td>Arab World</td>\n",
       "      <td>ARB</td>\n",
       "      <td>25.022214</td>\n",
       "      <td>28.117516</td>\n",
       "      <td>29.113212</td>\n",
       "      <td>29.335306</td>\n",
       "      <td>29.704569</td>\n",
       "    </tr>\n",
       "    <tr>\n",
       "      <th>4</th>\n",
       "      <td>United Arab Emirates</td>\n",
       "      <td>ARE</td>\n",
       "      <td>9.800000</td>\n",
       "      <td>9.800000</td>\n",
       "      <td>9.800000</td>\n",
       "      <td>9.900000</td>\n",
       "      <td>10.000000</td>\n",
       "    </tr>\n",
       "    <tr>\n",
       "      <th>5</th>\n",
       "      <td>Argentina</td>\n",
       "      <td>ARG</td>\n",
       "      <td>19.500000</td>\n",
       "      <td>18.799999</td>\n",
       "      <td>18.400000</td>\n",
       "      <td>19.700001</td>\n",
       "      <td>21.299999</td>\n",
       "    </tr>\n",
       "    <tr>\n",
       "      <th>6</th>\n",
       "      <td>Armenia</td>\n",
       "      <td>ARM</td>\n",
       "      <td>38.299999</td>\n",
       "      <td>38.700001</td>\n",
       "      <td>35.000000</td>\n",
       "      <td>32.500000</td>\n",
       "      <td>35.099998</td>\n",
       "    </tr>\n",
       "    <tr>\n",
       "      <th>7</th>\n",
       "      <td>Australia</td>\n",
       "      <td>AUS</td>\n",
       "      <td>11.400000</td>\n",
       "      <td>11.400000</td>\n",
       "      <td>11.700000</td>\n",
       "      <td>12.200000</td>\n",
       "      <td>13.100000</td>\n",
       "    </tr>\n",
       "    <tr>\n",
       "      <th>8</th>\n",
       "      <td>Austria</td>\n",
       "      <td>AUT</td>\n",
       "      <td>8.800000</td>\n",
       "      <td>8.200000</td>\n",
       "      <td>8.700000</td>\n",
       "      <td>9.100000</td>\n",
       "      <td>9.200000</td>\n",
       "    </tr>\n",
       "    <tr>\n",
       "      <th>9</th>\n",
       "      <td>Azerbaijan</td>\n",
       "      <td>AZE</td>\n",
       "      <td>14.600000</td>\n",
       "      <td>14.500000</td>\n",
       "      <td>14.300000</td>\n",
       "      <td>13.400000</td>\n",
       "      <td>13.600000</td>\n",
       "    </tr>\n",
       "  </tbody>\n",
       "</table>\n",
       "</div>"
      ],
      "text/plain": [
       "           Country Name Country Code       2010       2011       2012  \\\n",
       "0           Afghanistan          AFG  20.600000  20.900000  19.700001   \n",
       "1                Angola          AGO  10.800000  10.700000  10.700000   \n",
       "2               Albania          ALB  25.799999  27.000000  28.299999   \n",
       "3            Arab World          ARB  25.022214  28.117516  29.113212   \n",
       "4  United Arab Emirates          ARE   9.800000   9.800000   9.800000   \n",
       "5             Argentina          ARG  19.500000  18.799999  18.400000   \n",
       "6               Armenia          ARM  38.299999  38.700001  35.000000   \n",
       "7             Australia          AUS  11.400000  11.400000  11.700000   \n",
       "8               Austria          AUT   8.800000   8.200000   8.700000   \n",
       "9            Azerbaijan          AZE  14.600000  14.500000  14.300000   \n",
       "\n",
       "        2013       2014  \n",
       "0  21.100000  20.799999  \n",
       "1  10.600000  10.500000  \n",
       "2  28.700001  29.200001  \n",
       "3  29.335306  29.704569  \n",
       "4   9.900000  10.000000  \n",
       "5  19.700001  21.299999  \n",
       "6  32.500000  35.099998  \n",
       "7  12.200000  13.100000  \n",
       "8   9.100000   9.200000  \n",
       "9  13.400000  13.600000  "
      ]
     },
     "execution_count": 221,
     "metadata": {},
     "output_type": "execute_result"
    }
   ],
   "source": [
    "# reading the csv file and looking at the first 10 rows\n",
    "\n",
    "Unemployment = pd.read_csv(\"API_ILO_country_YU.csv\")\n",
    "Unemployment.head(10)"
   ]
  },
  {
   "cell_type": "code",
   "execution_count": 222,
   "metadata": {
    "scrolled": true
   },
   "outputs": [
    {
     "data": {
      "text/html": [
       "<div>\n",
       "<style>\n",
       "    .dataframe thead tr:only-child th {\n",
       "        text-align: right;\n",
       "    }\n",
       "\n",
       "    .dataframe thead th {\n",
       "        text-align: left;\n",
       "    }\n",
       "\n",
       "    .dataframe tbody tr th {\n",
       "        vertical-align: top;\n",
       "    }\n",
       "</style>\n",
       "<table border=\"1\" class=\"dataframe\">\n",
       "  <thead>\n",
       "    <tr style=\"text-align: right;\">\n",
       "      <th></th>\n",
       "      <th>Country Code</th>\n",
       "      <th>2010</th>\n",
       "      <th>2011</th>\n",
       "      <th>2012</th>\n",
       "      <th>2013</th>\n",
       "      <th>2014</th>\n",
       "    </tr>\n",
       "    <tr>\n",
       "      <th>Country Name</th>\n",
       "      <th></th>\n",
       "      <th></th>\n",
       "      <th></th>\n",
       "      <th></th>\n",
       "      <th></th>\n",
       "      <th></th>\n",
       "    </tr>\n",
       "  </thead>\n",
       "  <tbody>\n",
       "    <tr>\n",
       "      <th>Afghanistan</th>\n",
       "      <td>AFG</td>\n",
       "      <td>20.600000</td>\n",
       "      <td>20.900000</td>\n",
       "      <td>19.700001</td>\n",
       "      <td>21.100000</td>\n",
       "      <td>20.799999</td>\n",
       "    </tr>\n",
       "    <tr>\n",
       "      <th>Angola</th>\n",
       "      <td>AGO</td>\n",
       "      <td>10.800000</td>\n",
       "      <td>10.700000</td>\n",
       "      <td>10.700000</td>\n",
       "      <td>10.600000</td>\n",
       "      <td>10.500000</td>\n",
       "    </tr>\n",
       "    <tr>\n",
       "      <th>Albania</th>\n",
       "      <td>ALB</td>\n",
       "      <td>25.799999</td>\n",
       "      <td>27.000000</td>\n",
       "      <td>28.299999</td>\n",
       "      <td>28.700001</td>\n",
       "      <td>29.200001</td>\n",
       "    </tr>\n",
       "    <tr>\n",
       "      <th>Argentina</th>\n",
       "      <td>ARG</td>\n",
       "      <td>19.500000</td>\n",
       "      <td>18.799999</td>\n",
       "      <td>18.400000</td>\n",
       "      <td>19.700001</td>\n",
       "      <td>21.299999</td>\n",
       "    </tr>\n",
       "    <tr>\n",
       "      <th>Armenia</th>\n",
       "      <td>ARM</td>\n",
       "      <td>38.299999</td>\n",
       "      <td>38.700001</td>\n",
       "      <td>35.000000</td>\n",
       "      <td>32.500000</td>\n",
       "      <td>35.099998</td>\n",
       "    </tr>\n",
       "    <tr>\n",
       "      <th>Australia</th>\n",
       "      <td>AUS</td>\n",
       "      <td>11.400000</td>\n",
       "      <td>11.400000</td>\n",
       "      <td>11.700000</td>\n",
       "      <td>12.200000</td>\n",
       "      <td>13.100000</td>\n",
       "    </tr>\n",
       "    <tr>\n",
       "      <th>Austria</th>\n",
       "      <td>AUT</td>\n",
       "      <td>8.800000</td>\n",
       "      <td>8.200000</td>\n",
       "      <td>8.700000</td>\n",
       "      <td>9.100000</td>\n",
       "      <td>9.200000</td>\n",
       "    </tr>\n",
       "    <tr>\n",
       "      <th>Azerbaijan</th>\n",
       "      <td>AZE</td>\n",
       "      <td>14.600000</td>\n",
       "      <td>14.500000</td>\n",
       "      <td>14.300000</td>\n",
       "      <td>13.400000</td>\n",
       "      <td>13.600000</td>\n",
       "    </tr>\n",
       "    <tr>\n",
       "      <th>Burundi</th>\n",
       "      <td>BDI</td>\n",
       "      <td>10.800000</td>\n",
       "      <td>10.800000</td>\n",
       "      <td>10.800000</td>\n",
       "      <td>10.800000</td>\n",
       "      <td>10.700000</td>\n",
       "    </tr>\n",
       "    <tr>\n",
       "      <th>Belgium</th>\n",
       "      <td>BEL</td>\n",
       "      <td>22.500000</td>\n",
       "      <td>18.600000</td>\n",
       "      <td>19.700001</td>\n",
       "      <td>23.100000</td>\n",
       "      <td>23.600000</td>\n",
       "    </tr>\n",
       "    <tr>\n",
       "      <th>Benin</th>\n",
       "      <td>BEN</td>\n",
       "      <td>2.000000</td>\n",
       "      <td>2.000000</td>\n",
       "      <td>2.000000</td>\n",
       "      <td>1.800000</td>\n",
       "      <td>1.700000</td>\n",
       "    </tr>\n",
       "    <tr>\n",
       "      <th>Burkina Faso</th>\n",
       "      <td>BFA</td>\n",
       "      <td>5.200000</td>\n",
       "      <td>5.300000</td>\n",
       "      <td>5.200000</td>\n",
       "      <td>5.200000</td>\n",
       "      <td>5.000000</td>\n",
       "    </tr>\n",
       "    <tr>\n",
       "      <th>Bangladesh</th>\n",
       "      <td>BGD</td>\n",
       "      <td>8.200000</td>\n",
       "      <td>8.200000</td>\n",
       "      <td>8.200000</td>\n",
       "      <td>8.900000</td>\n",
       "      <td>9.100000</td>\n",
       "    </tr>\n",
       "    <tr>\n",
       "      <th>Bulgaria</th>\n",
       "      <td>BGR</td>\n",
       "      <td>22.900000</td>\n",
       "      <td>25.200001</td>\n",
       "      <td>28.200001</td>\n",
       "      <td>29.700001</td>\n",
       "      <td>25.900000</td>\n",
       "    </tr>\n",
       "    <tr>\n",
       "      <th>Bahrain</th>\n",
       "      <td>BHR</td>\n",
       "      <td>10.200000</td>\n",
       "      <td>11.400000</td>\n",
       "      <td>10.500000</td>\n",
       "      <td>10.600000</td>\n",
       "      <td>10.900000</td>\n",
       "    </tr>\n",
       "    <tr>\n",
       "      <th>Bosnia and Herzegovina</th>\n",
       "      <td>BIH</td>\n",
       "      <td>57.200001</td>\n",
       "      <td>57.099998</td>\n",
       "      <td>61.700001</td>\n",
       "      <td>57.400002</td>\n",
       "      <td>57.500000</td>\n",
       "    </tr>\n",
       "    <tr>\n",
       "      <th>Belarus</th>\n",
       "      <td>BLR</td>\n",
       "      <td>13.200000</td>\n",
       "      <td>12.500000</td>\n",
       "      <td>11.800000</td>\n",
       "      <td>12.000000</td>\n",
       "      <td>12.000000</td>\n",
       "    </tr>\n",
       "    <tr>\n",
       "      <th>Belize</th>\n",
       "      <td>BLZ</td>\n",
       "      <td>20.900000</td>\n",
       "      <td>24.299999</td>\n",
       "      <td>26.000000</td>\n",
       "      <td>22.400000</td>\n",
       "      <td>22.000000</td>\n",
       "    </tr>\n",
       "    <tr>\n",
       "      <th>Bolivia</th>\n",
       "      <td>BOL</td>\n",
       "      <td>6.000000</td>\n",
       "      <td>5.500000</td>\n",
       "      <td>5.500000</td>\n",
       "      <td>5.100000</td>\n",
       "      <td>5.200000</td>\n",
       "    </tr>\n",
       "    <tr>\n",
       "      <th>Brazil</th>\n",
       "      <td>BRA</td>\n",
       "      <td>17.200001</td>\n",
       "      <td>15.200000</td>\n",
       "      <td>14.400000</td>\n",
       "      <td>14.700000</td>\n",
       "      <td>15.200000</td>\n",
       "    </tr>\n",
       "    <tr>\n",
       "      <th>Barbados</th>\n",
       "      <td>BRB</td>\n",
       "      <td>25.299999</td>\n",
       "      <td>25.500000</td>\n",
       "      <td>26.500000</td>\n",
       "      <td>26.200001</td>\n",
       "      <td>26.799999</td>\n",
       "    </tr>\n",
       "    <tr>\n",
       "      <th>Brunei Darussalam</th>\n",
       "      <td>BRN</td>\n",
       "      <td>10.900000</td>\n",
       "      <td>10.900000</td>\n",
       "      <td>11.000000</td>\n",
       "      <td>11.300000</td>\n",
       "      <td>11.100000</td>\n",
       "    </tr>\n",
       "    <tr>\n",
       "      <th>Bhutan</th>\n",
       "      <td>BTN</td>\n",
       "      <td>8.400000</td>\n",
       "      <td>8.400000</td>\n",
       "      <td>6.400000</td>\n",
       "      <td>10.400000</td>\n",
       "      <td>10.000000</td>\n",
       "    </tr>\n",
       "    <tr>\n",
       "      <th>Botswana</th>\n",
       "      <td>BWA</td>\n",
       "      <td>33.000000</td>\n",
       "      <td>33.200001</td>\n",
       "      <td>33.299999</td>\n",
       "      <td>32.799999</td>\n",
       "      <td>33.900002</td>\n",
       "    </tr>\n",
       "    <tr>\n",
       "      <th>Central African Republic</th>\n",
       "      <td>CAF</td>\n",
       "      <td>10.800000</td>\n",
       "      <td>10.800000</td>\n",
       "      <td>10.700000</td>\n",
       "      <td>12.000000</td>\n",
       "      <td>11.900000</td>\n",
       "    </tr>\n",
       "    <tr>\n",
       "      <th>Canada</th>\n",
       "      <td>CAN</td>\n",
       "      <td>14.800000</td>\n",
       "      <td>14.100000</td>\n",
       "      <td>14.300000</td>\n",
       "      <td>13.800000</td>\n",
       "      <td>13.400000</td>\n",
       "    </tr>\n",
       "    <tr>\n",
       "      <th>Switzerland</th>\n",
       "      <td>CHE</td>\n",
       "      <td>7.700000</td>\n",
       "      <td>7.600000</td>\n",
       "      <td>8.500000</td>\n",
       "      <td>8.800000</td>\n",
       "      <td>8.700000</td>\n",
       "    </tr>\n",
       "    <tr>\n",
       "      <th>Chile</th>\n",
       "      <td>CHL</td>\n",
       "      <td>18.600000</td>\n",
       "      <td>17.600000</td>\n",
       "      <td>16.200001</td>\n",
       "      <td>16.100000</td>\n",
       "      <td>16.400000</td>\n",
       "    </tr>\n",
       "    <tr>\n",
       "      <th>China</th>\n",
       "      <td>CHN</td>\n",
       "      <td>9.000000</td>\n",
       "      <td>9.300000</td>\n",
       "      <td>9.700000</td>\n",
       "      <td>10.100000</td>\n",
       "      <td>10.500000</td>\n",
       "    </tr>\n",
       "    <tr>\n",
       "      <th>Cameroon</th>\n",
       "      <td>CMR</td>\n",
       "      <td>6.400000</td>\n",
       "      <td>6.400000</td>\n",
       "      <td>6.400000</td>\n",
       "      <td>6.300000</td>\n",
       "      <td>6.700000</td>\n",
       "    </tr>\n",
       "    <tr>\n",
       "      <th>...</th>\n",
       "      <td>...</td>\n",
       "      <td>...</td>\n",
       "      <td>...</td>\n",
       "      <td>...</td>\n",
       "      <td>...</td>\n",
       "      <td>...</td>\n",
       "    </tr>\n",
       "    <tr>\n",
       "      <th>Somalia</th>\n",
       "      <td>SOM</td>\n",
       "      <td>10.500000</td>\n",
       "      <td>10.500000</td>\n",
       "      <td>10.500000</td>\n",
       "      <td>10.600000</td>\n",
       "      <td>10.600000</td>\n",
       "    </tr>\n",
       "    <tr>\n",
       "      <th>Serbia</th>\n",
       "      <td>SRB</td>\n",
       "      <td>45.500000</td>\n",
       "      <td>50.400002</td>\n",
       "      <td>50.599998</td>\n",
       "      <td>49.700001</td>\n",
       "      <td>49.500000</td>\n",
       "    </tr>\n",
       "    <tr>\n",
       "      <th>Suriname</th>\n",
       "      <td>SUR</td>\n",
       "      <td>20.700001</td>\n",
       "      <td>19.000000</td>\n",
       "      <td>17.400000</td>\n",
       "      <td>15.500000</td>\n",
       "      <td>17.900000</td>\n",
       "    </tr>\n",
       "    <tr>\n",
       "      <th>Slovak Republic</th>\n",
       "      <td>SVK</td>\n",
       "      <td>33.700001</td>\n",
       "      <td>33.099998</td>\n",
       "      <td>33.900002</td>\n",
       "      <td>33.500000</td>\n",
       "      <td>31.100000</td>\n",
       "    </tr>\n",
       "    <tr>\n",
       "      <th>Slovenia</th>\n",
       "      <td>SVN</td>\n",
       "      <td>14.600000</td>\n",
       "      <td>15.800000</td>\n",
       "      <td>20.600000</td>\n",
       "      <td>22.799999</td>\n",
       "      <td>20.799999</td>\n",
       "    </tr>\n",
       "    <tr>\n",
       "      <th>Sweden</th>\n",
       "      <td>SWE</td>\n",
       "      <td>25.200001</td>\n",
       "      <td>23.200001</td>\n",
       "      <td>24.200001</td>\n",
       "      <td>23.799999</td>\n",
       "      <td>22.799999</td>\n",
       "    </tr>\n",
       "    <tr>\n",
       "      <th>Swaziland</th>\n",
       "      <td>SWZ</td>\n",
       "      <td>42.000000</td>\n",
       "      <td>42.200001</td>\n",
       "      <td>42.000000</td>\n",
       "      <td>42.000000</td>\n",
       "      <td>42.599998</td>\n",
       "    </tr>\n",
       "    <tr>\n",
       "      <th>Syrian Arab Republic</th>\n",
       "      <td>SYR</td>\n",
       "      <td>19.299999</td>\n",
       "      <td>33.700001</td>\n",
       "      <td>33.700001</td>\n",
       "      <td>32.400002</td>\n",
       "      <td>30.100000</td>\n",
       "    </tr>\n",
       "    <tr>\n",
       "      <th>Chad</th>\n",
       "      <td>TCD</td>\n",
       "      <td>10.400000</td>\n",
       "      <td>10.900000</td>\n",
       "      <td>10.600000</td>\n",
       "      <td>10.700000</td>\n",
       "      <td>10.500000</td>\n",
       "    </tr>\n",
       "    <tr>\n",
       "      <th>Togo</th>\n",
       "      <td>TGO</td>\n",
       "      <td>10.800000</td>\n",
       "      <td>10.800000</td>\n",
       "      <td>10.700000</td>\n",
       "      <td>10.700000</td>\n",
       "      <td>10.700000</td>\n",
       "    </tr>\n",
       "    <tr>\n",
       "      <th>Thailand</th>\n",
       "      <td>THA</td>\n",
       "      <td>4.000000</td>\n",
       "      <td>2.900000</td>\n",
       "      <td>3.100000</td>\n",
       "      <td>3.200000</td>\n",
       "      <td>3.900000</td>\n",
       "    </tr>\n",
       "    <tr>\n",
       "      <th>Tajikistan</th>\n",
       "      <td>TJK</td>\n",
       "      <td>17.299999</td>\n",
       "      <td>16.400000</td>\n",
       "      <td>15.400000</td>\n",
       "      <td>15.700000</td>\n",
       "      <td>15.500000</td>\n",
       "    </tr>\n",
       "    <tr>\n",
       "      <th>Turkmenistan</th>\n",
       "      <td>TKM</td>\n",
       "      <td>20.600000</td>\n",
       "      <td>21.000000</td>\n",
       "      <td>20.700001</td>\n",
       "      <td>20.600000</td>\n",
       "      <td>20.200001</td>\n",
       "    </tr>\n",
       "    <tr>\n",
       "      <th>Timor-Leste</th>\n",
       "      <td>TLS</td>\n",
       "      <td>13.100000</td>\n",
       "      <td>12.600000</td>\n",
       "      <td>13.400000</td>\n",
       "      <td>13.400000</td>\n",
       "      <td>14.000000</td>\n",
       "    </tr>\n",
       "    <tr>\n",
       "      <th>Trinidad and Tobago</th>\n",
       "      <td>TTO</td>\n",
       "      <td>14.000000</td>\n",
       "      <td>11.200000</td>\n",
       "      <td>12.400000</td>\n",
       "      <td>9.100000</td>\n",
       "      <td>10.600000</td>\n",
       "    </tr>\n",
       "    <tr>\n",
       "      <th>Tunisia</th>\n",
       "      <td>TUN</td>\n",
       "      <td>29.400000</td>\n",
       "      <td>42.700001</td>\n",
       "      <td>32.799999</td>\n",
       "      <td>31.299999</td>\n",
       "      <td>31.799999</td>\n",
       "    </tr>\n",
       "    <tr>\n",
       "      <th>Turkey</th>\n",
       "      <td>TUR</td>\n",
       "      <td>21.200001</td>\n",
       "      <td>17.900000</td>\n",
       "      <td>17.100000</td>\n",
       "      <td>16.500000</td>\n",
       "      <td>17.700001</td>\n",
       "    </tr>\n",
       "    <tr>\n",
       "      <th>Tanzania</th>\n",
       "      <td>TZA</td>\n",
       "      <td>5.600000</td>\n",
       "      <td>6.600000</td>\n",
       "      <td>6.000000</td>\n",
       "      <td>5.300000</td>\n",
       "      <td>5.500000</td>\n",
       "    </tr>\n",
       "    <tr>\n",
       "      <th>Uganda</th>\n",
       "      <td>UGA</td>\n",
       "      <td>7.400000</td>\n",
       "      <td>7.400000</td>\n",
       "      <td>7.400000</td>\n",
       "      <td>7.400000</td>\n",
       "      <td>6.800000</td>\n",
       "    </tr>\n",
       "    <tr>\n",
       "      <th>Ukraine</th>\n",
       "      <td>UKR</td>\n",
       "      <td>17.400000</td>\n",
       "      <td>19.000000</td>\n",
       "      <td>17.299999</td>\n",
       "      <td>16.000000</td>\n",
       "      <td>16.900000</td>\n",
       "    </tr>\n",
       "    <tr>\n",
       "      <th>Uruguay</th>\n",
       "      <td>URY</td>\n",
       "      <td>20.799999</td>\n",
       "      <td>17.900000</td>\n",
       "      <td>18.500000</td>\n",
       "      <td>18.100000</td>\n",
       "      <td>19.100000</td>\n",
       "    </tr>\n",
       "    <tr>\n",
       "      <th>United States</th>\n",
       "      <td>USA</td>\n",
       "      <td>18.700001</td>\n",
       "      <td>17.400000</td>\n",
       "      <td>16.500000</td>\n",
       "      <td>15.800000</td>\n",
       "      <td>14.000000</td>\n",
       "    </tr>\n",
       "    <tr>\n",
       "      <th>Uzbekistan</th>\n",
       "      <td>UZB</td>\n",
       "      <td>20.600000</td>\n",
       "      <td>20.600000</td>\n",
       "      <td>20.600000</td>\n",
       "      <td>20.500000</td>\n",
       "      <td>20.299999</td>\n",
       "    </tr>\n",
       "    <tr>\n",
       "      <th>Venezuela, RB</th>\n",
       "      <td>VEN</td>\n",
       "      <td>17.500000</td>\n",
       "      <td>17.400000</td>\n",
       "      <td>17.100000</td>\n",
       "      <td>14.800000</td>\n",
       "      <td>17.100000</td>\n",
       "    </tr>\n",
       "    <tr>\n",
       "      <th>Vietnam</th>\n",
       "      <td>VNM</td>\n",
       "      <td>6.100000</td>\n",
       "      <td>5.300000</td>\n",
       "      <td>5.000000</td>\n",
       "      <td>6.300000</td>\n",
       "      <td>6.300000</td>\n",
       "    </tr>\n",
       "    <tr>\n",
       "      <th>Yemen, Rep.</th>\n",
       "      <td>YEM</td>\n",
       "      <td>30.299999</td>\n",
       "      <td>30.000000</td>\n",
       "      <td>30.200001</td>\n",
       "      <td>30.200001</td>\n",
       "      <td>29.900000</td>\n",
       "    </tr>\n",
       "    <tr>\n",
       "      <th>South Africa</th>\n",
       "      <td>ZAF</td>\n",
       "      <td>50.799999</td>\n",
       "      <td>50.099998</td>\n",
       "      <td>52.200001</td>\n",
       "      <td>51.400002</td>\n",
       "      <td>52.599998</td>\n",
       "    </tr>\n",
       "    <tr>\n",
       "      <th>Congo, Dem. Rep.</th>\n",
       "      <td>COD</td>\n",
       "      <td>12.300000</td>\n",
       "      <td>12.300000</td>\n",
       "      <td>12.300000</td>\n",
       "      <td>12.200000</td>\n",
       "      <td>11.900000</td>\n",
       "    </tr>\n",
       "    <tr>\n",
       "      <th>Zambia</th>\n",
       "      <td>ZMB</td>\n",
       "      <td>26.400000</td>\n",
       "      <td>26.600000</td>\n",
       "      <td>26.600000</td>\n",
       "      <td>25.500000</td>\n",
       "      <td>25.100000</td>\n",
       "    </tr>\n",
       "    <tr>\n",
       "      <th>Zimbabwe</th>\n",
       "      <td>ZWE</td>\n",
       "      <td>9.600000</td>\n",
       "      <td>8.300000</td>\n",
       "      <td>8.300000</td>\n",
       "      <td>8.900000</td>\n",
       "      <td>9.400000</td>\n",
       "    </tr>\n",
       "  </tbody>\n",
       "</table>\n",
       "<p>168 rows × 6 columns</p>\n",
       "</div>"
      ],
      "text/plain": [
       "                         Country Code       2010       2011       2012  \\\n",
       "Country Name                                                             \n",
       "Afghanistan                       AFG  20.600000  20.900000  19.700001   \n",
       "Angola                            AGO  10.800000  10.700000  10.700000   \n",
       "Albania                           ALB  25.799999  27.000000  28.299999   \n",
       "Argentina                         ARG  19.500000  18.799999  18.400000   \n",
       "Armenia                           ARM  38.299999  38.700001  35.000000   \n",
       "Australia                         AUS  11.400000  11.400000  11.700000   \n",
       "Austria                           AUT   8.800000   8.200000   8.700000   \n",
       "Azerbaijan                        AZE  14.600000  14.500000  14.300000   \n",
       "Burundi                           BDI  10.800000  10.800000  10.800000   \n",
       "Belgium                           BEL  22.500000  18.600000  19.700001   \n",
       "Benin                             BEN   2.000000   2.000000   2.000000   \n",
       "Burkina Faso                      BFA   5.200000   5.300000   5.200000   \n",
       "Bangladesh                        BGD   8.200000   8.200000   8.200000   \n",
       "Bulgaria                          BGR  22.900000  25.200001  28.200001   \n",
       "Bahrain                           BHR  10.200000  11.400000  10.500000   \n",
       "Bosnia and Herzegovina            BIH  57.200001  57.099998  61.700001   \n",
       "Belarus                           BLR  13.200000  12.500000  11.800000   \n",
       "Belize                            BLZ  20.900000  24.299999  26.000000   \n",
       "Bolivia                           BOL   6.000000   5.500000   5.500000   \n",
       "Brazil                            BRA  17.200001  15.200000  14.400000   \n",
       "Barbados                          BRB  25.299999  25.500000  26.500000   \n",
       "Brunei Darussalam                 BRN  10.900000  10.900000  11.000000   \n",
       "Bhutan                            BTN   8.400000   8.400000   6.400000   \n",
       "Botswana                          BWA  33.000000  33.200001  33.299999   \n",
       "Central African Republic          CAF  10.800000  10.800000  10.700000   \n",
       "Canada                            CAN  14.800000  14.100000  14.300000   \n",
       "Switzerland                       CHE   7.700000   7.600000   8.500000   \n",
       "Chile                             CHL  18.600000  17.600000  16.200001   \n",
       "China                             CHN   9.000000   9.300000   9.700000   \n",
       "Cameroon                          CMR   6.400000   6.400000   6.400000   \n",
       "...                               ...        ...        ...        ...   \n",
       "Somalia                           SOM  10.500000  10.500000  10.500000   \n",
       "Serbia                            SRB  45.500000  50.400002  50.599998   \n",
       "Suriname                          SUR  20.700001  19.000000  17.400000   \n",
       "Slovak Republic                   SVK  33.700001  33.099998  33.900002   \n",
       "Slovenia                          SVN  14.600000  15.800000  20.600000   \n",
       "Sweden                            SWE  25.200001  23.200001  24.200001   \n",
       "Swaziland                         SWZ  42.000000  42.200001  42.000000   \n",
       "Syrian Arab Republic              SYR  19.299999  33.700001  33.700001   \n",
       "Chad                              TCD  10.400000  10.900000  10.600000   \n",
       "Togo                              TGO  10.800000  10.800000  10.700000   \n",
       "Thailand                          THA   4.000000   2.900000   3.100000   \n",
       "Tajikistan                        TJK  17.299999  16.400000  15.400000   \n",
       "Turkmenistan                      TKM  20.600000  21.000000  20.700001   \n",
       "Timor-Leste                       TLS  13.100000  12.600000  13.400000   \n",
       "Trinidad and Tobago               TTO  14.000000  11.200000  12.400000   \n",
       "Tunisia                           TUN  29.400000  42.700001  32.799999   \n",
       "Turkey                            TUR  21.200001  17.900000  17.100000   \n",
       "Tanzania                          TZA   5.600000   6.600000   6.000000   \n",
       "Uganda                            UGA   7.400000   7.400000   7.400000   \n",
       "Ukraine                           UKR  17.400000  19.000000  17.299999   \n",
       "Uruguay                           URY  20.799999  17.900000  18.500000   \n",
       "United States                     USA  18.700001  17.400000  16.500000   \n",
       "Uzbekistan                        UZB  20.600000  20.600000  20.600000   \n",
       "Venezuela, RB                     VEN  17.500000  17.400000  17.100000   \n",
       "Vietnam                           VNM   6.100000   5.300000   5.000000   \n",
       "Yemen, Rep.                       YEM  30.299999  30.000000  30.200001   \n",
       "South Africa                      ZAF  50.799999  50.099998  52.200001   \n",
       "Congo, Dem. Rep.                  COD  12.300000  12.300000  12.300000   \n",
       "Zambia                            ZMB  26.400000  26.600000  26.600000   \n",
       "Zimbabwe                          ZWE   9.600000   8.300000   8.300000   \n",
       "\n",
       "                               2013       2014  \n",
       "Country Name                                    \n",
       "Afghanistan               21.100000  20.799999  \n",
       "Angola                    10.600000  10.500000  \n",
       "Albania                   28.700001  29.200001  \n",
       "Argentina                 19.700001  21.299999  \n",
       "Armenia                   32.500000  35.099998  \n",
       "Australia                 12.200000  13.100000  \n",
       "Austria                    9.100000   9.200000  \n",
       "Azerbaijan                13.400000  13.600000  \n",
       "Burundi                   10.800000  10.700000  \n",
       "Belgium                   23.100000  23.600000  \n",
       "Benin                      1.800000   1.700000  \n",
       "Burkina Faso               5.200000   5.000000  \n",
       "Bangladesh                 8.900000   9.100000  \n",
       "Bulgaria                  29.700001  25.900000  \n",
       "Bahrain                   10.600000  10.900000  \n",
       "Bosnia and Herzegovina    57.400002  57.500000  \n",
       "Belarus                   12.000000  12.000000  \n",
       "Belize                    22.400000  22.000000  \n",
       "Bolivia                    5.100000   5.200000  \n",
       "Brazil                    14.700000  15.200000  \n",
       "Barbados                  26.200001  26.799999  \n",
       "Brunei Darussalam         11.300000  11.100000  \n",
       "Bhutan                    10.400000  10.000000  \n",
       "Botswana                  32.799999  33.900002  \n",
       "Central African Republic  12.000000  11.900000  \n",
       "Canada                    13.800000  13.400000  \n",
       "Switzerland                8.800000   8.700000  \n",
       "Chile                     16.100000  16.400000  \n",
       "China                     10.100000  10.500000  \n",
       "Cameroon                   6.300000   6.700000  \n",
       "...                             ...        ...  \n",
       "Somalia                   10.600000  10.600000  \n",
       "Serbia                    49.700001  49.500000  \n",
       "Suriname                  15.500000  17.900000  \n",
       "Slovak Republic           33.500000  31.100000  \n",
       "Slovenia                  22.799999  20.799999  \n",
       "Sweden                    23.799999  22.799999  \n",
       "Swaziland                 42.000000  42.599998  \n",
       "Syrian Arab Republic      32.400002  30.100000  \n",
       "Chad                      10.700000  10.500000  \n",
       "Togo                      10.700000  10.700000  \n",
       "Thailand                   3.200000   3.900000  \n",
       "Tajikistan                15.700000  15.500000  \n",
       "Turkmenistan              20.600000  20.200001  \n",
       "Timor-Leste               13.400000  14.000000  \n",
       "Trinidad and Tobago        9.100000  10.600000  \n",
       "Tunisia                   31.299999  31.799999  \n",
       "Turkey                    16.500000  17.700001  \n",
       "Tanzania                   5.300000   5.500000  \n",
       "Uganda                     7.400000   6.800000  \n",
       "Ukraine                   16.000000  16.900000  \n",
       "Uruguay                   18.100000  19.100000  \n",
       "United States             15.800000  14.000000  \n",
       "Uzbekistan                20.500000  20.299999  \n",
       "Venezuela, RB             14.800000  17.100000  \n",
       "Vietnam                    6.300000   6.300000  \n",
       "Yemen, Rep.               30.200001  29.900000  \n",
       "South Africa              51.400002  52.599998  \n",
       "Congo, Dem. Rep.          12.200000  11.900000  \n",
       "Zambia                    25.500000  25.100000  \n",
       "Zimbabwe                   8.900000   9.400000  \n",
       "\n",
       "[168 rows x 6 columns]"
      ]
     },
     "execution_count": 222,
     "metadata": {},
     "output_type": "execute_result"
    }
   ],
   "source": [
    "# Data Cleaning\n",
    "# looking at the data, I noticed that there were many 'Country Name' that was not an actualy country.\n",
    "# Removed datasets to unify the category\n",
    "\n",
    "UnemploymentCleaned = UnemploymentIndex.drop([\"Arab World\",\"United Arab Emirates\",\"Bahamas, The\",\"Central Europe and the Baltics\",\n",
    "                                              \"Cote d'Ivoire\",\"Caribbean small states\",\"East Asia & Pacific (excluding high income)\",\n",
    "                                              \"Early-demographic dividend\",\"East Asia & Pacific\",\"Europe & Central Asia (excluding high income)\",\n",
    "                                              \"Europe & Central Asia\",\"Euro area\",\"European Union\",\"Fragile and conflict affected situations\",\n",
    "                                              \"Gambia, The\",\"Guinea-Bissau\",\"Equatorial Guinea\",\"High income\",\n",
    "                                              \"Heavily indebted poor countries (HIPC)\",\"IBRD only\",\"IDA & IBRD total\",\n",
    "                                              \"IDA total\",\"IDA blend\",\"IDA only\",\"Latin America & Caribbean (excluding high income)\",\n",
    "                                              \"Lao PDR\",\"Latin America & Caribbean\",\"Least developed countries: UN classification\",\n",
    "                                              \"Low income\",\"Lower middle income\",\"Low & middle income\",\"Late-demographic dividend\",\n",
    "                                              \"Middle East & North Africa\",\"Middle income\",\"Middle East & North Africa (excluding high income)\",\n",
    "                                              \"OECD members\",\"Other small states\",\"Pre-demographic dividend\",\"South Asia\",\n",
    "                                              \"Sub-Saharan Africa (excluding high income)\",\"Sub-Saharan Africa\",\"Small states\",\n",
    "                                              \"East Asia & Pacific (IDA & IBRD countries)\",\"Europe & Central Asia (IDA & IBRD countries)\",\n",
    "                                              \"Latin America & the Caribbean (IDA & IBRD countries)\",\"Middle East & North Africa (IDA & IBRD countries)\",\n",
    "                                              \"South Asia (IDA & IBRD)\",\"Sub-Saharan Africa (IDA & IBRD countries)\",\n",
    "                                              \"Upper middle income\",\"West Bank and Gaza\",\"World\"])\n",
    "UnemploymentCleaned"
   ]
  },
  {
   "cell_type": "markdown",
   "metadata": {},
   "source": [
    "# 2. Data Analysis"
   ]
  },
  {
   "cell_type": "code",
   "execution_count": 223,
   "metadata": {},
   "outputs": [],
   "source": [
    "# Sorting and graphing the unemployment rate by year\n",
    "# Looking at top 10 unemployed rate at 2010\n",
    "\n",
    "UnemploymentCleanedTop2010 = UnemploymentCleaned.sort_values(by=[\"2010\"], ascending = False)\n",
    "UnemploymentCleanedTop2010.head(10)\n",
    "Top2010 = UnemploymentCleanedTop2010.head(10)"
   ]
  },
  {
   "cell_type": "code",
   "execution_count": 224,
   "metadata": {},
   "outputs": [
    {
     "data": {
      "text/plain": [
       "<matplotlib.text.Text at 0x17f7c7f0>"
      ]
     },
     "execution_count": 224,
     "metadata": {},
     "output_type": "execute_result"
    },
    {
     "data": {
      "image/png": "[encoded data removed]",
      "text/plain": [
       "<matplotlib.figure.Figure at 0x18895748>"
      ]
     },
     "metadata": {},
     "output_type": "display_data"
    }
   ],
   "source": [
    "# plotting bar graph: top 10 unemployment rate in 2010\n",
    "\n",
    "Top20101 = Top2010[\"2010\"].plot(kind='bar', title = \"Top 10 unemployment rate in 2010\", figsize=(13, 8), fontsize=15)\n",
    "Top20101.set_xlabel(\"Countries\", fontsize=15)\n",
    "Top20101.set_ylabel(\"Unemplayment rate (%)\", fontsize=15)\n"
   ]
  },
  {
   "cell_type": "markdown",
   "metadata": {},
   "source": [
    "This bar graph shows the top 10 unemployment rate of Countries in 2010. As you can see, Bosnia and Herzegovinia have the highest unemployment rate of 57.2% followed by Macedonia (53.7%) and South Africa (50.8%)."
   ]
  },
  {
   "cell_type": "code",
   "execution_count": 225,
   "metadata": {
    "collapsed": true
   },
   "outputs": [],
   "source": [
    "# Looking at bottom 10 unemployed rate at 2010\n",
    "\n",
    "UnemploymentCleanedBottom2010 = UnemploymentCleaned.sort_values(by=[\"2010\"], ascending = False)\n",
    "UnemploymentCleanedBottom2010.tail(10)\n",
    "Bottom2010 = UnemploymentCleanedBottom2010.tail(10)"
   ]
  },
  {
   "cell_type": "code",
   "execution_count": 226,
   "metadata": {},
   "outputs": [
    {
     "data": {
      "text/plain": [
       "<matplotlib.text.Text at 0x185abe48>"
      ]
     },
     "execution_count": 226,
     "metadata": {},
     "output_type": "execute_result"
    },
    {
     "data": {
      "image/png": "[encoded data removed]",
      "text/plain": [
       "<matplotlib.figure.Figure at 0x18b463c8>"
      ]
     },
     "metadata": {},
     "output_type": "display_data"
    }
   ],
   "source": [
    "# plotting bar graph: bottom 10 unemployment rate in 2010\n",
    "\n",
    "Bottom20101 = Bottom2010[\"2010\"].plot(kind='bar', title = \"Bottom 10 unemployment rate in 2010\", figsize=(13, 8), fontsize=15, color = \"pink\")\n",
    "Bottom20101.set_xlabel(\"Countries\", fontsize=15)\n",
    "Bottom20101.set_ylabel(\"Unemplayment rate (%)\", fontsize=15)"
   ]
  },
  {
   "cell_type": "markdown",
   "metadata": {},
   "source": [
    "This shart shows the bottom 10 unemployed rate in 2010. Rwanda have the lowest unemployment rate 0.7% followed by Cambodia (0.9%) and Qatar (1.5%)"
   ]
  },
  {
   "cell_type": "code",
   "execution_count": 227,
   "metadata": {},
   "outputs": [],
   "source": [
    "# Looking at top 10 unemployed rate at 2014\n",
    "\n",
    "UnemploymentCleanedTop2014 = UnemploymentCleaned.sort_values(by=[\"2014\"], ascending = False)\n",
    "UnemploymentCleanedTop2014.head(10)\n",
    "Top2014 = UnemploymentCleanedTop2014.head(10)"
   ]
  },
  {
   "cell_type": "code",
   "execution_count": 228,
   "metadata": {},
   "outputs": [
    {
     "data": {
      "text/plain": [
       "<matplotlib.text.Text at 0x17cd8630>"
      ]
     },
     "execution_count": 228,
     "metadata": {},
     "output_type": "execute_result"
    },
    {
     "data": {
      "image/png": "[encoded data removed]",
      "text/plain": [
       "<matplotlib.figure.Figure at 0x187cba20>"
      ]
     },
     "metadata": {},
     "output_type": "display_data"
    }
   ],
   "source": [
    "# plotting bar graph: top 10 unemployment rate in 2014\n",
    "\n",
    "Top20141 = Top2014[\"2014\"].plot(kind='bar', title = \"Top 10 unemployment rate in 2014\", figsize=(13, 8), fontsize=15)\n",
    "Top20141.set_xlabel(\"Countries\", fontsize=15)\n",
    "Top20141.set_ylabel(\"Unemplayment rate (%)\", fontsize=15)"
   ]
  },
  {
   "cell_type": "markdown",
   "metadata": {},
   "source": [
    "After looking at 2010 dataset, I wanted to check the last dataset to compare the difference which was 2014. This bar graph shows that in 2014, Spain had the highest unemployment rate with 57.9% followed by Bosnia and Herzegovina (57.5%) and Greece (53.9%). Spain had a hugh spike through 2010 to 2014. Spain want from number 8 highest to number 1."
   ]
  },
  {
   "cell_type": "code",
   "execution_count": 229,
   "metadata": {
    "collapsed": true
   },
   "outputs": [],
   "source": [
    "# Looking at bottom 10 unemployed rate at 2014\n",
    "\n",
    "UnemploymentCleanedBottom2014 = UnemploymentCleaned.sort_values(by=[\"2014\"], ascending = False)\n",
    "UnemploymentCleanedBottom2014.tail(10)\n",
    "Bottom2014 = UnemploymentCleanedBottom2014.tail(10)"
   ]
  },
  {
   "cell_type": "code",
   "execution_count": 230,
   "metadata": {},
   "outputs": [
    {
     "data": {
      "text/plain": [
       "<matplotlib.text.Text at 0x17d049b0>"
      ]
     },
     "execution_count": 230,
     "metadata": {},
     "output_type": "execute_result"
    },
    {
     "data": {
      "image/png": "[encoded data removed]",
      "text/plain": [
       "<matplotlib.figure.Figure at 0x18b2b860>"
      ]
     },
     "metadata": {},
     "output_type": "display_data"
    }
   ],
   "source": [
    "# plotting bar graph: bottom 10 unemployment rate in 2010\n",
    "\n",
    "Bottom20141 = Bottom2014[\"2014\"].plot(kind='bar', title = \"Bottom 10 unemployment rate in 2014\", figsize=(13, 8), fontsize=15, color = \"pink\")\n",
    "Bottom20141.set_xlabel(\"Countries\", fontsize=15)\n",
    "Bottom20141.set_ylabel(\"Unemplayment rate (%)\", fontsize=15)"
   ]
  },
  {
   "cell_type": "markdown",
   "metadata": {},
   "source": [
    "When looking the the lowest unemployment rate of 2014, Rwanda, again, had the lowest rate with 0.7% followed by (0.9%) and Qatar (1.3%). The ranking of those three Countries stayed the same throughout the years."
   ]
  },
  {
   "cell_type": "code",
   "execution_count": 231,
   "metadata": {},
   "outputs": [
    {
     "data": {
      "application/vnd.plotly.v1+json": {
       "config": {
        "linkText": "Export to plot.ly",
        "plotlyServerURL": "https://plot.ly",
        "showLink": false
       },
       "data": [
        {
         "hoverinfo": "text",
         "marker": {
          "color": [
           20.6000003815,
           10.800000190699999,
           25.7999992371,
           19.5,
           38.2999992371,
           11.399999618499999,
           8.8000001907,
           14.600000381500001,
           10.800000190699999,
           22.5,
           2,
           5.1999998093,
           8.1999998093,
           22.8999996185,
           10.1999998093,
           57.2000007629,
           13.199999809300001,
           20.8999996185,
           6,
           17.2000007629,
           25.2999992371,
           10.899999618499999,
           8.3999996185,
           33,
           10.800000190699999,
           14.800000190699999,
           7.6999998092999995,
           18.6000003815,
           9,
           6.400000095399999,
           10.6000003815,
           24.2999992371,
           10.6000003815,
           18.2000007629,
           17,
           6.099999904600001,
           16,
           18.5,
           9.6999998093,
           14.100000381500001,
           25.2999992371,
           22.2000007629,
           11.300000190699999,
           26.2999992371,
           10.800000190699999,
           42.5,
           33.2999992371,
           7.400000095399999,
           20.3999996185,
           20.1000003815,
           22.6000003815,
           34.5,
           19.6000003815,
           36.7999992371,
           11.399999618499999,
           1.8999999762,
           32.4000015259,
           5.6999998092999995,
           23.2999992371,
           12.100000381500001,
           9.1000003815,
           33.5,
           19.2999992371,
           26.6000003815,
           25,
           10.1999998093,
           28,
           28.3999996185,
           32.2999992371,
           16.1000003815,
           13.600000381500001,
           27.7999992371,
           30,
           30.1000003815,
           9.1000003815,
           6,
           17.1000003815,
           16.6000003815,
           0.8999999762,
           9.6999998093,
           10.6000003815,
           20.8999996185,
           5,
           43.7999992371,
           18.7999992371,
           35.5999984741,
           35.2000007629,
           14.5,
           34.9000015259,
           5.3000001907,
           17.7000007629,
           17.7000007629,
           6.1999998092999995,
           25.3999996185,
           9.3999996185,
           53.7000007629,
           10.3000001907,
           13.199999809300001,
           9.3999996185,
           46,
           14.100000381500001,
           40.7000007629,
           46.7000007629,
           23.1000003815,
           13.800000190699999,
           11,
           18.3279230855,
           44.0999984741,
           7.1999998092999995,
           13.800000190699999,
           12.300000190699999,
           8.8000001907,
           9.1999998093,
           4,
           17,
           19.2999992371,
           8.1999998093,
           14.899999618499999,
           9,
           16.7999992371,
           5.400000095399999,
           23.3999996185,
           30.6000003815,
           10.1999998093,
           22.2999992371,
           11.899999618499999,
           17.7982556316,
           1.5,
           22.2999992371,
           16.7999992371,
           0.6999999881,
           29.7999992371,
           22.7999992371,
           13,
           9.8999996185,
           9.1000003815,
           5.0999999046,
           13,
           10.5,
           45.5,
           20.7000007629,
           33.7000007629,
           14.600000381500001,
           25.2000007629,
           42,
           19.2999992371,
           10.3999996185,
           10.800000190699999,
           4,
           17.2999992371,
           20.6000003815,
           13.100000381500001,
           14,
           29.3999996185,
           21.2000007629,
           5.599999904600001,
           7.400000095399999,
           17.3999996185,
           20.7999992371,
           18.7000007629,
           20.6000003815,
           17.5,
           6.099999904600001,
           30.2999992371,
           50.7999992371,
           12.300000190699999,
           26.3999996185,
           9.6000003815
          ],
          "colorscale": [
           [
            0,
            "rgb(12,51,131)"
           ],
           [
            0.25,
            "rgb(10,136,186)"
           ],
           [
            0.5,
            "rgb(242,211,56)"
           ],
           [
            0.75,
            "rgb(242,143,56)"
           ],
           [
            1,
            "rgb(217,30,30)"
           ]
          ],
          "showscale": true,
          "size": [
           20.6000003815,
           10.800000190699999,
           25.7999992371,
           19.5,
           38.2999992371,
           11.399999618499999,
           8.8000001907,
           14.600000381500001,
           10.800000190699999,
           22.5,
           2,
           5.1999998093,
           8.1999998093,
           22.8999996185,
           10.1999998093,
           57.2000007629,
           13.199999809300001,
           20.8999996185,
           6,
           17.2000007629,
           25.2999992371,
           10.899999618499999,
           8.3999996185,
           33,
           10.800000190699999,
           14.800000190699999,
           7.6999998092999995,
           18.6000003815,
           9,
           6.400000095399999,
           10.6000003815,
           24.2999992371,
           10.6000003815,
           18.2000007629,
           17,
           6.099999904600001,
           16,
           18.5,
           9.6999998093,
           14.100000381500001,
           25.2999992371,
           22.2000007629,
           11.300000190699999,
           26.2999992371,
           10.800000190699999,
           42.5,
           33.2999992371,
           7.400000095399999,
           20.3999996185,
           20.1000003815,
           22.6000003815,
           34.5,
           19.6000003815,
           36.7999992371,
           11.399999618499999,
           1.8999999762,
           32.4000015259,
           5.6999998092999995,
           23.2999992371,
           12.100000381500001,
           9.1000003815,
           33.5,
           19.2999992371,
           26.6000003815,
           25,
           10.1999998093,
           28,
           28.3999996185,
           32.2999992371,
           16.1000003815,
           13.600000381500001,
           27.7999992371,
           30,
           30.1000003815,
           9.1000003815,
           6,
           17.1000003815,
           16.6000003815,
           0.8999999762,
           9.6999998093,
           10.6000003815,
           20.8999996185,
           5,
           43.7999992371,
           18.7999992371,
           35.5999984741,
           35.2000007629,
           14.5,
           34.9000015259,
           5.3000001907,
           17.7000007629,
           17.7000007629,
           6.1999998092999995,
           25.3999996185,
           9.3999996185,
           53.7000007629,
           10.3000001907,
           13.199999809300001,
           9.3999996185,
           46,
           14.100000381500001,
           40.7000007629,
           46.7000007629,
           23.1000003815,
           13.800000190699999,
           11,
           18.3279230855,
           44.0999984741,
           7.1999998092999995,
           13.800000190699999,
           12.300000190699999,
           8.8000001907,
           9.1999998093,
           4,
           17,
           19.2999992371,
           8.1999998093,
           14.899999618499999,
           9,
           16.7999992371,
           5.400000095399999,
           23.3999996185,
           30.6000003815,
           10.1999998093,
           22.2999992371,
           11.899999618499999,
           17.7982556316,
           1.5,
           22.2999992371,
           16.7999992371,
           0.6999999881,
           29.7999992371,
           22.7999992371,
           13,
           9.8999996185,
           9.1000003815,
           5.0999999046,
           13,
           10.5,
           45.5,
           20.7000007629,
           33.7000007629,
           14.600000381500001,
           25.2000007629,
           42,
           19.2999992371,
           10.3999996185,
           10.800000190699999,
           4,
           17.2999992371,
           20.6000003815,
           13.100000381500001,
           14,
           29.3999996185,
           21.2000007629,
           5.599999904600001,
           7.400000095399999,
           17.3999996185,
           20.7999992371,
           18.7000007629,
           20.6000003815,
           17.5,
           6.099999904600001,
           30.2999992371,
           50.7999992371,
           12.300000190699999,
           26.3999996185,
           9.6000003815
          ]
         },
         "mode": "markers",
         "text": [
          "AFG",
          "AGO",
          "ALB",
          "ARG",
          "ARM",
          "AUS",
          "AUT",
          "AZE",
          "BDI",
          "BEL",
          "BEN",
          "BFA",
          "BGD",
          "BGR",
          "BHR",
          "BIH",
          "BLR",
          "BLZ",
          "BOL",
          "BRA",
          "BRB",
          "BRN",
          "BTN",
          "BWA",
          "CAF",
          "CAN",
          "CHE",
          "CHL",
          "CHN",
          "CMR",
          "COG",
          "COL",
          "COM",
          "CPV",
          "CRI",
          "CUB",
          "CYP",
          "CZE",
          "DEU",
          "DNK",
          "DOM",
          "DZA",
          "ECU",
          "EGY",
          "ERI",
          "ESP",
          "EST",
          "ETH",
          "FIN",
          "FJI",
          "FRA",
          "GAB",
          "GBR",
          "GEO",
          "GHA",
          "GIN",
          "GRC",
          "GTM",
          "GUY",
          "HKG",
          "HND",
          "HRV",
          "HTI",
          "HUN",
          "IDN",
          "IND",
          "IRL",
          "IRN",
          "IRQ",
          "ISL",
          "ISR",
          "ITA",
          "JAM",
          "JOR",
          "JPN",
          "KAZ",
          "KEN",
          "KGZ",
          "KHM",
          "KOR",
          "KWT",
          "LBN",
          "LBR",
          "LBY",
          "LKA",
          "LSO",
          "LTU",
          "LUX",
          "LVA",
          "MAC",
          "MAR",
          "MDA",
          "MDG",
          "MDV",
          "MEX",
          "MKD",
          "MLI",
          "MLT",
          "MMR",
          "MNE",
          "MNG",
          "MOZ",
          "MRT",
          "MUS",
          "MWI",
          "MYS",
          "NAC",
          "NAM",
          "NER",
          "NGA",
          "NIC",
          "NLD",
          "NOR",
          "NPL",
          "NZL",
          "OMN",
          "PAK",
          "PAN",
          "PER",
          "PHL",
          "PNG",
          "POL",
          "PRI",
          "PRK",
          "PRT",
          "PRY",
          "PST",
          "QAT",
          "ROU",
          "RUS",
          "RWA",
          "SAU",
          "SDN",
          "SEN",
          "SGP",
          "SLB",
          "SLE",
          "SLV",
          "SOM",
          "SRB",
          "SUR",
          "SVK",
          "SVN",
          "SWE",
          "SWZ",
          "SYR",
          "TCD",
          "TGO",
          "THA",
          "TJK",
          "TKM",
          "TLS",
          "TTO",
          "TUN",
          "TUR",
          "TZA",
          "UGA",
          "UKR",
          "URY",
          "USA",
          "UZB",
          "VEN",
          "VNM",
          "YEM",
          "ZAF",
          "COD",
          "ZMB",
          "ZWE"
         ],
         "type": "scatter",
         "y": [
          20.6000003815,
          10.800000190699999,
          25.7999992371,
          19.5,
          38.2999992371,
          11.399999618499999,
          8.8000001907,
          14.600000381500001,
          10.800000190699999,
          22.5,
          2,
          5.1999998093,
          8.1999998093,
          22.8999996185,
          10.1999998093,
          57.2000007629,
          13.199999809300001,
          20.8999996185,
          6,
          17.2000007629,
          25.2999992371,
          10.899999618499999,
          8.3999996185,
          33,
          10.800000190699999,
          14.800000190699999,
          7.6999998092999995,
          18.6000003815,
          9,
          6.400000095399999,
          10.6000003815,
          24.2999992371,
          10.6000003815,
          18.2000007629,
          17,
          6.099999904600001,
          16,
          18.5,
          9.6999998093,
          14.100000381500001,
          25.2999992371,
          22.2000007629,
          11.300000190699999,
          26.2999992371,
          10.800000190699999,
          42.5,
          33.2999992371,
          7.400000095399999,
          20.3999996185,
          20.1000003815,
          22.6000003815,
          34.5,
          19.6000003815,
          36.7999992371,
          11.399999618499999,
          1.8999999762,
          32.4000015259,
          5.6999998092999995,
          23.2999992371,
          12.100000381500001,
          9.1000003815,
          33.5,
          19.2999992371,
          26.6000003815,
          25,
          10.1999998093,
          28,
          28.3999996185,
          32.2999992371,
          16.1000003815,
          13.600000381500001,
          27.7999992371,
          30,
          30.1000003815,
          9.1000003815,
          6,
          17.1000003815,
          16.6000003815,
          0.8999999762,
          9.6999998093,
          10.6000003815,
          20.8999996185,
          5,
          43.7999992371,
          18.7999992371,
          35.5999984741,
          35.2000007629,
          14.5,
          34.9000015259,
          5.3000001907,
          17.7000007629,
          17.7000007629,
          6.1999998092999995,
          25.3999996185,
          9.3999996185,
          53.7000007629,
          10.3000001907,
          13.199999809300001,
          9.3999996185,
          46,
          14.100000381500001,
          40.7000007629,
          46.7000007629,
          23.1000003815,
          13.800000190699999,
          11,
          18.3279230855,
          44.0999984741,
          7.1999998092999995,
          13.800000190699999,
          12.300000190699999,
          8.8000001907,
          9.1999998093,
          4,
          17,
          19.2999992371,
          8.1999998093,
          14.899999618499999,
          9,
          16.7999992371,
          5.400000095399999,
          23.3999996185,
          30.6000003815,
          10.1999998093,
          22.2999992371,
          11.899999618499999,
          17.7982556316,
          1.5,
          22.2999992371,
          16.7999992371,
          0.6999999881,
          29.7999992371,
          22.7999992371,
          13,
          9.8999996185,
          9.1000003815,
          5.0999999046,
          13,
          10.5,
          45.5,
          20.7000007629,
          33.7000007629,
          14.600000381500001,
          25.2000007629,
          42,
          19.2999992371,
          10.3999996185,
          10.800000190699999,
          4,
          17.2999992371,
          20.6000003815,
          13.100000381500001,
          14,
          29.3999996185,
          21.2000007629,
          5.599999904600001,
          7.400000095399999,
          17.3999996185,
          20.7999992371,
          18.7000007629,
          20.6000003815,
          17.5,
          6.099999904600001,
          30.2999992371,
          50.7999992371,
          12.300000190699999,
          26.3999996185,
          9.6000003815
         ]
        }
       ],
       "layout": {
        "autosize": true,
        "hovermode": "closest",
        "showlegend": false,
        "template": {
         "data": {
          "bar": [
           {
            "error_x": {
             "color": "#2a3f5f"
            },
            "error_y": {
             "color": "#2a3f5f"
            },
            "marker": {
             "line": {
              "color": "#E5ECF6",
              "width": 0.5
             }
            },
            "type": "bar"
           }
          ],
          "barpolar": [
           {
            "marker": {
             "line": {
              "color": "#E5ECF6",
              "width": 0.5
             }
            },
            "type": "barpolar"
           }
          ],
          "carpet": [
           {
            "aaxis": {
             "endlinecolor": "#2a3f5f",
             "gridcolor": "white",
             "linecolor": "white",
             "minorgridcolor": "white",
             "startlinecolor": "#2a3f5f"
            },
            "baxis": {
             "endlinecolor": "#2a3f5f",
             "gridcolor": "white",
             "linecolor": "white",
             "minorgridcolor": "white",
             "startlinecolor": "#2a3f5f"
            },
            "type": "carpet"
           }
          ],
          "choropleth": [
           {
            "colorbar": {
             "outlinewidth": 0,
             "ticks": ""
            },
            "type": "choropleth"
           }
          ],
          "contour": [
           {
            "colorbar": {
             "outlinewidth": 0,
             "ticks": ""
            },
            "colorscale": [
             [
              0,
              "#0d0887"
             ],
             [
              0.1111111111111111,
              "#46039f"
             ],
             [
              0.2222222222222222,
              "#7201a8"
             ],
             [
              0.3333333333333333,
              "#9c179e"
             ],
             [
              0.4444444444444444,
              "#bd3786"
             ],
             [
              0.5555555555555556,
              "#d8576b"
             ],
             [
              0.6666666666666666,
              "#ed7953"
             ],
             [
              0.7777777777777778,
              "#fb9f3a"
             ],
             [
              0.8888888888888888,
              "#fdca26"
             ],
             [
              1,
              "#f0f921"
             ]
            ],
            "type": "contour"
           }
          ],
          "contourcarpet": [
           {
            "colorbar": {
             "outlinewidth": 0,
             "ticks": ""
            },
            "type": "contourcarpet"
           }
          ],
          "heatmap": [
           {
            "colorbar": {
             "outlinewidth": 0,
             "ticks": ""
            },
            "colorscale": [
             [
              0,
              "#0d0887"
             ],
             [
              0.1111111111111111,
              "#46039f"
             ],
             [
              0.2222222222222222,
              "#7201a8"
             ],
             [
              0.3333333333333333,
              "#9c179e"
             ],
             [
              0.4444444444444444,
              "#bd3786"
             ],
             [
              0.5555555555555556,
              "#d8576b"
             ],
             [
              0.6666666666666666,
              "#ed7953"
             ],
             [
              0.7777777777777778,
              "#fb9f3a"
             ],
             [
              0.8888888888888888,
              "#fdca26"
             ],
             [
              1,
              "#f0f921"
             ]
            ],
            "type": "heatmap"
           }
          ],
          "heatmapgl": [
           {
            "colorbar": {
             "outlinewidth": 0,
             "ticks": ""
            },
            "colorscale": [
             [
              0,
              "#0d0887"
             ],
             [
              0.1111111111111111,
              "#46039f"
             ],
             [
              0.2222222222222222,
              "#7201a8"
             ],
             [
              0.3333333333333333,
              "#9c179e"
             ],
             [
              0.4444444444444444,
              "#bd3786"
             ],
             [
              0.5555555555555556,
              "#d8576b"
             ],
             [
              0.6666666666666666,
              "#ed7953"
             ],
             [
              0.7777777777777778,
              "#fb9f3a"
             ],
             [
              0.8888888888888888,
              "#fdca26"
             ],
             [
              1,
              "#f0f921"
             ]
            ],
            "type": "heatmapgl"
           }
          ],
          "histogram": [
           {
            "marker": {
             "colorbar": {
              "outlinewidth": 0,
              "ticks": ""
             }
            },
            "type": "histogram"
           }
          ],
          "histogram2d": [
           {
            "colorbar": {
             "outlinewidth": 0,
             "ticks": ""
            },
            "colorscale": [
             [
              0,
              "#0d0887"
             ],
             [
              0.1111111111111111,
              "#46039f"
             ],
             [
              0.2222222222222222,
              "#7201a8"
             ],
             [
              0.3333333333333333,
              "#9c179e"
             ],
             [
              0.4444444444444444,
              "#bd3786"
             ],
             [
              0.5555555555555556,
              "#d8576b"
             ],
             [
              0.6666666666666666,
              "#ed7953"
             ],
             [
              0.7777777777777778,
              "#fb9f3a"
             ],
             [
              0.8888888888888888,
              "#fdca26"
             ],
             [
              1,
              "#f0f921"
             ]
            ],
            "type": "histogram2d"
           }
          ],
          "histogram2dcontour": [
           {
            "colorbar": {
             "outlinewidth": 0,
             "ticks": ""
            },
            "colorscale": [
             [
              0,
              "#0d0887"
             ],
             [
              0.1111111111111111,
              "#46039f"
             ],
             [
              0.2222222222222222,
              "#7201a8"
             ],
             [
              0.3333333333333333,
              "#9c179e"
             ],
             [
              0.4444444444444444,
              "#bd3786"
             ],
             [
              0.5555555555555556,
              "#d8576b"
             ],
             [
              0.6666666666666666,
              "#ed7953"
             ],
             [
              0.7777777777777778,
              "#fb9f3a"
             ],
             [
              0.8888888888888888,
              "#fdca26"
             ],
             [
              1,
              "#f0f921"
             ]
            ],
            "type": "histogram2dcontour"
           }
          ],
          "mesh3d": [
           {
            "colorbar": {
             "outlinewidth": 0,
             "ticks": ""
            },
            "type": "mesh3d"
           }
          ],
          "parcoords": [
           {
            "line": {
             "colorbar": {
              "outlinewidth": 0,
              "ticks": ""
             }
            },
            "type": "parcoords"
           }
          ],
          "scatter": [
           {
            "marker": {
             "colorbar": {
              "outlinewidth": 0,
              "ticks": ""
             }
            },
            "type": "scatter"
           }
          ],
          "scatter3d": [
           {
            "line": {
             "colorbar": {
              "outlinewidth": 0,
              "ticks": ""
             }
            },
            "marker": {
             "colorbar": {
              "outlinewidth": 0,
              "ticks": ""
             }
            },
            "type": "scatter3d"
           }
          ],
          "scattercarpet": [
           {
            "marker": {
             "colorbar": {
              "outlinewidth": 0,
              "ticks": ""
             }
            },
            "type": "scattercarpet"
           }
          ],
          "scattergeo": [
           {
            "marker": {
             "colorbar": {
              "outlinewidth": 0,
              "ticks": ""
             }
            },
            "type": "scattergeo"
           }
          ],
          "scattergl": [
           {
            "marker": {
             "colorbar": {
              "outlinewidth": 0,
              "ticks": ""
             }
            },
            "type": "scattergl"
           }
          ],
          "scattermapbox": [
           {
            "marker": {
             "colorbar": {
              "outlinewidth": 0,
              "ticks": ""
             }
            },
            "type": "scattermapbox"
           }
          ],
          "scatterpolar": [
           {
            "marker": {
             "colorbar": {
              "outlinewidth": 0,
              "ticks": ""
             }
            },
            "type": "scatterpolar"
           }
          ],
          "scatterpolargl": [
           {
            "marker": {
             "colorbar": {
              "outlinewidth": 0,
              "ticks": ""
             }
            },
            "type": "scatterpolargl"
           }
          ],
          "scatterternary": [
           {
            "marker": {
             "colorbar": {
              "outlinewidth": 0,
              "ticks": ""
             }
            },
            "type": "scatterternary"
           }
          ],
          "surface": [
           {
            "colorbar": {
             "outlinewidth": 0,
             "ticks": ""
            },
            "colorscale": [
             [
              0,
              "#0d0887"
             ],
             [
              0.1111111111111111,
              "#46039f"
             ],
             [
              0.2222222222222222,
              "#7201a8"
             ],
             [
              0.3333333333333333,
              "#9c179e"
             ],
             [
              0.4444444444444444,
              "#bd3786"
             ],
             [
              0.5555555555555556,
              "#d8576b"
             ],
             [
              0.6666666666666666,
              "#ed7953"
             ],
             [
              0.7777777777777778,
              "#fb9f3a"
             ],
             [
              0.8888888888888888,
              "#fdca26"
             ],
             [
              1,
              "#f0f921"
             ]
            ],
            "type": "surface"
           }
          ],
          "table": [
           {
            "cells": {
             "fill": {
              "color": "#EBF0F8"
             },
             "line": {
              "color": "white"
             }
            },
            "header": {
             "fill": {
              "color": "#C8D4E3"
             },
             "line": {
              "color": "white"
             }
            },
            "type": "table"
           }
          ]
         },
         "layout": {
          "annotationdefaults": {
           "arrowcolor": "#2a3f5f",
           "arrowhead": 0,
           "arrowwidth": 1
          },
          "colorscale": {
           "diverging": [
            [
             0,
             "#8e0152"
            ],
            [
             0.1,
             "#c51b7d"
            ],
            [
             0.2,
             "#de77ae"
            ],
            [
             0.3,
             "#f1b6da"
            ],
            [
             0.4,
             "#fde0ef"
            ],
            [
             0.5,
             "#f7f7f7"
            ],
            [
             0.6,
             "#e6f5d0"
            ],
            [
             0.7,
             "#b8e186"
            ],
            [
             0.8,
             "#7fbc41"
            ],
            [
             0.9,
             "#4d9221"
            ],
            [
             1,
             "#276419"
            ]
           ],
           "sequential": [
            [
             0,
             "#0d0887"
            ],
            [
             0.1111111111111111,
             "#46039f"
            ],
            [
             0.2222222222222222,
             "#7201a8"
            ],
            [
             0.3333333333333333,
             "#9c179e"
            ],
            [
             0.4444444444444444,
             "#bd3786"
            ],
            [
             0.5555555555555556,
             "#d8576b"
            ],
            [
             0.6666666666666666,
             "#ed7953"
            ],
            [
             0.7777777777777778,
             "#fb9f3a"
            ],
            [
             0.8888888888888888,
             "#fdca26"
            ],
            [
             1,
             "#f0f921"
            ]
           ],
           "sequentialminus": [
            [
             0,
             "#0d0887"
            ],
            [
             0.1111111111111111,
             "#46039f"
            ],
            [
             0.2222222222222222,
             "#7201a8"
            ],
            [
             0.3333333333333333,
             "#9c179e"
            ],
            [
             0.4444444444444444,
             "#bd3786"
            ],
            [
             0.5555555555555556,
             "#d8576b"
            ],
            [
             0.6666666666666666,
             "#ed7953"
            ],
            [
             0.7777777777777778,
             "#fb9f3a"
            ],
            [
             0.8888888888888888,
             "#fdca26"
            ],
            [
             1,
             "#f0f921"
            ]
           ]
          },
          "colorway": [
           "#636efa",
           "#EF553B",
           "#00cc96",
           "#ab63fa",
           "#FFA15A",
           "#19d3f3",
           "#FF6692",
           "#B6E880",
           "#FF97FF",
           "#FECB52"
          ],
          "font": {
           "color": "#2a3f5f"
          },
          "geo": {
           "bgcolor": "white",
           "lakecolor": "white",
           "landcolor": "#E5ECF6",
           "showlakes": true,
           "showland": true,
           "subunitcolor": "white"
          },
          "hoverlabel": {
           "align": "left"
          },
          "hovermode": "closest",
          "mapbox": {
           "style": "light"
          },
          "paper_bgcolor": "white",
          "plot_bgcolor": "#E5ECF6",
          "polar": {
           "angularaxis": {
            "gridcolor": "white",
            "linecolor": "white",
            "ticks": ""
           },
           "bgcolor": "#E5ECF6",
           "radialaxis": {
            "gridcolor": "white",
            "linecolor": "white",
            "ticks": ""
           }
          },
          "scene": {
           "xaxis": {
            "backgroundcolor": "#E5ECF6",
            "gridcolor": "white",
            "gridwidth": 2,
            "linecolor": "white",
            "showbackground": true,
            "ticks": "",
            "zerolinecolor": "white"
           },
           "yaxis": {
            "backgroundcolor": "#E5ECF6",
            "gridcolor": "white",
            "gridwidth": 2,
            "linecolor": "white",
            "showbackground": true,
            "ticks": "",
            "zerolinecolor": "white"
           },
           "zaxis": {
            "backgroundcolor": "#E5ECF6",
            "gridcolor": "white",
            "gridwidth": 2,
            "linecolor": "white",
            "showbackground": true,
            "ticks": "",
            "zerolinecolor": "white"
           }
          },
          "shapedefaults": {
           "line": {
            "color": "#2a3f5f"
           }
          },
          "ternary": {
           "aaxis": {
            "gridcolor": "white",
            "linecolor": "white",
            "ticks": ""
           },
           "baxis": {
            "gridcolor": "white",
            "linecolor": "white",
            "ticks": ""
           },
           "bgcolor": "#E5ECF6",
           "caxis": {
            "gridcolor": "white",
            "linecolor": "white",
            "ticks": ""
           }
          },
          "title": {
           "x": 0.05
          },
          "xaxis": {
           "automargin": true,
           "gridcolor": "white",
           "linecolor": "white",
           "ticks": "",
           "zerolinecolor": "white",
           "zerolinewidth": 2
          },
          "yaxis": {
           "automargin": true,
           "gridcolor": "white",
           "linecolor": "white",
           "ticks": "",
           "zerolinecolor": "white",
           "zerolinewidth": 2
          }
         }
        },
        "title": {
         "text": "Scatter plot of unemployment rates in 2010"
        },
        "yaxis": {
         "gridwidth": 2,
         "ticklen": 5,
         "title": {
          "text": "Unemployment Rate"
         }
        }
       }
      },
      "text/html": [
       "<div>\n",
       "        \n",
       "        \n",
       "            <div id=\"12c1c5ad-0fd3-48e8-9c27-d9e348462104\" class=\"plotly-graph-div\" style=\"height:525px; width:100%;\"></div>\n",
       "            <script type=\"text/javascript\">\n",
       "                require([\"plotly\"], function(Plotly) {\n",
       "                    window.PLOTLYENV=window.PLOTLYENV || {};\n",
       "                    \n",
       "                if (document.getElementById(\"12c1c5ad-0fd3-48e8-9c27-d9e348462104\")) {\n",
       "                    Plotly.newPlot(\n",
       "                        '12c1c5ad-0fd3-48e8-9c27-d9e348462104',\n",
       "                        [{\"hoverinfo\": \"text\", \"marker\": {\"color\": [20.6000003815, 10.800000190699999, 25.7999992371, 19.5, 38.2999992371, 11.399999618499999, 8.8000001907, 14.600000381500001, 10.800000190699999, 22.5, 2.0, 5.1999998093, 8.1999998093, 22.8999996185, 10.1999998093, 57.2000007629, 13.199999809300001, 20.8999996185, 6.0, 17.2000007629, 25.2999992371, 10.899999618499999, 8.3999996185, 33.0, 10.800000190699999, 14.800000190699999, 7.6999998092999995, 18.6000003815, 9.0, 6.400000095399999, 10.6000003815, 24.2999992371, 10.6000003815, 18.2000007629, 17.0, 6.099999904600001, 16.0, 18.5, 9.6999998093, 14.100000381500001, 25.2999992371, 22.2000007629, 11.300000190699999, 26.2999992371, 10.800000190699999, 42.5, 33.2999992371, 7.400000095399999, 20.3999996185, 20.1000003815, 22.6000003815, 34.5, 19.6000003815, 36.7999992371, 11.399999618499999, 1.8999999762, 32.4000015259, 5.6999998092999995, 23.2999992371, 12.100000381500001, 9.1000003815, 33.5, 19.2999992371, 26.6000003815, 25.0, 10.1999998093, 28.0, 28.3999996185, 32.2999992371, 16.1000003815, 13.600000381500001, 27.7999992371, 30.0, 30.1000003815, 9.1000003815, 6.0, 17.1000003815, 16.6000003815, 0.8999999762, 9.6999998093, 10.6000003815, 20.8999996185, 5.0, 43.7999992371, 18.7999992371, 35.5999984741, 35.2000007629, 14.5, 34.9000015259, 5.3000001907, 17.7000007629, 17.7000007629, 6.1999998092999995, 25.3999996185, 9.3999996185, 53.7000007629, 10.3000001907, 13.199999809300001, 9.3999996185, 46.0, 14.100000381500001, 40.7000007629, 46.7000007629, 23.1000003815, 13.800000190699999, 11.0, 18.3279230855, 44.0999984741, 7.1999998092999995, 13.800000190699999, 12.300000190699999, 8.8000001907, 9.1999998093, 4.0, 17.0, 19.2999992371, 8.1999998093, 14.899999618499999, 9.0, 16.7999992371, 5.400000095399999, 23.3999996185, 30.6000003815, 10.1999998093, 22.2999992371, 11.899999618499999, 17.7982556316, 1.5, 22.2999992371, 16.7999992371, 0.6999999881, 29.7999992371, 22.7999992371, 13.0, 9.8999996185, 9.1000003815, 5.0999999046, 13.0, 10.5, 45.5, 20.7000007629, 33.7000007629, 14.600000381500001, 25.2000007629, 42.0, 19.2999992371, 10.3999996185, 10.800000190699999, 4.0, 17.2999992371, 20.6000003815, 13.100000381500001, 14.0, 29.3999996185, 21.2000007629, 5.599999904600001, 7.400000095399999, 17.3999996185, 20.7999992371, 18.7000007629, 20.6000003815, 17.5, 6.099999904600001, 30.2999992371, 50.7999992371, 12.300000190699999, 26.3999996185, 9.6000003815], \"colorscale\": [[0.0, \"rgb(12,51,131)\"], [0.25, \"rgb(10,136,186)\"], [0.5, \"rgb(242,211,56)\"], [0.75, \"rgb(242,143,56)\"], [1.0, \"rgb(217,30,30)\"]], \"showscale\": true, \"size\": [20.6000003815, 10.800000190699999, 25.7999992371, 19.5, 38.2999992371, 11.399999618499999, 8.8000001907, 14.600000381500001, 10.800000190699999, 22.5, 2.0, 5.1999998093, 8.1999998093, 22.8999996185, 10.1999998093, 57.2000007629, 13.199999809300001, 20.8999996185, 6.0, 17.2000007629, 25.2999992371, 10.899999618499999, 8.3999996185, 33.0, 10.800000190699999, 14.800000190699999, 7.6999998092999995, 18.6000003815, 9.0, 6.400000095399999, 10.6000003815, 24.2999992371, 10.6000003815, 18.2000007629, 17.0, 6.099999904600001, 16.0, 18.5, 9.6999998093, 14.100000381500001, 25.2999992371, 22.2000007629, 11.300000190699999, 26.2999992371, 10.800000190699999, 42.5, 33.2999992371, 7.400000095399999, 20.3999996185, 20.1000003815, 22.6000003815, 34.5, 19.6000003815, 36.7999992371, 11.399999618499999, 1.8999999762, 32.4000015259, 5.6999998092999995, 23.2999992371, 12.100000381500001, 9.1000003815, 33.5, 19.2999992371, 26.6000003815, 25.0, 10.1999998093, 28.0, 28.3999996185, 32.2999992371, 16.1000003815, 13.600000381500001, 27.7999992371, 30.0, 30.1000003815, 9.1000003815, 6.0, 17.1000003815, 16.6000003815, 0.8999999762, 9.6999998093, 10.6000003815, 20.8999996185, 5.0, 43.7999992371, 18.7999992371, 35.5999984741, 35.2000007629, 14.5, 34.9000015259, 5.3000001907, 17.7000007629, 17.7000007629, 6.1999998092999995, 25.3999996185, 9.3999996185, 53.7000007629, 10.3000001907, 13.199999809300001, 9.3999996185, 46.0, 14.100000381500001, 40.7000007629, 46.7000007629, 23.1000003815, 13.800000190699999, 11.0, 18.3279230855, 44.0999984741, 7.1999998092999995, 13.800000190699999, 12.300000190699999, 8.8000001907, 9.1999998093, 4.0, 17.0, 19.2999992371, 8.1999998093, 14.899999618499999, 9.0, 16.7999992371, 5.400000095399999, 23.3999996185, 30.6000003815, 10.1999998093, 22.2999992371, 11.899999618499999, 17.7982556316, 1.5, 22.2999992371, 16.7999992371, 0.6999999881, 29.7999992371, 22.7999992371, 13.0, 9.8999996185, 9.1000003815, 5.0999999046, 13.0, 10.5, 45.5, 20.7000007629, 33.7000007629, 14.600000381500001, 25.2000007629, 42.0, 19.2999992371, 10.3999996185, 10.800000190699999, 4.0, 17.2999992371, 20.6000003815, 13.100000381500001, 14.0, 29.3999996185, 21.2000007629, 5.599999904600001, 7.400000095399999, 17.3999996185, 20.7999992371, 18.7000007629, 20.6000003815, 17.5, 6.099999904600001, 30.2999992371, 50.7999992371, 12.300000190699999, 26.3999996185, 9.6000003815]}, \"mode\": \"markers\", \"text\": [\"AFG\", \"AGO\", \"ALB\", \"ARG\", \"ARM\", \"AUS\", \"AUT\", \"AZE\", \"BDI\", \"BEL\", \"BEN\", \"BFA\", \"BGD\", \"BGR\", \"BHR\", \"BIH\", \"BLR\", \"BLZ\", \"BOL\", \"BRA\", \"BRB\", \"BRN\", \"BTN\", \"BWA\", \"CAF\", \"CAN\", \"CHE\", \"CHL\", \"CHN\", \"CMR\", \"COG\", \"COL\", \"COM\", \"CPV\", \"CRI\", \"CUB\", \"CYP\", \"CZE\", \"DEU\", \"DNK\", \"DOM\", \"DZA\", \"ECU\", \"EGY\", \"ERI\", \"ESP\", \"EST\", \"ETH\", \"FIN\", \"FJI\", \"FRA\", \"GAB\", \"GBR\", \"GEO\", \"GHA\", \"GIN\", \"GRC\", \"GTM\", \"GUY\", \"HKG\", \"HND\", \"HRV\", \"HTI\", \"HUN\", \"IDN\", \"IND\", \"IRL\", \"IRN\", \"IRQ\", \"ISL\", \"ISR\", \"ITA\", \"JAM\", \"JOR\", \"JPN\", \"KAZ\", \"KEN\", \"KGZ\", \"KHM\", \"KOR\", \"KWT\", \"LBN\", \"LBR\", \"LBY\", \"LKA\", \"LSO\", \"LTU\", \"LUX\", \"LVA\", \"MAC\", \"MAR\", \"MDA\", \"MDG\", \"MDV\", \"MEX\", \"MKD\", \"MLI\", \"MLT\", \"MMR\", \"MNE\", \"MNG\", \"MOZ\", \"MRT\", \"MUS\", \"MWI\", \"MYS\", \"NAC\", \"NAM\", \"NER\", \"NGA\", \"NIC\", \"NLD\", \"NOR\", \"NPL\", \"NZL\", \"OMN\", \"PAK\", \"PAN\", \"PER\", \"PHL\", \"PNG\", \"POL\", \"PRI\", \"PRK\", \"PRT\", \"PRY\", \"PST\", \"QAT\", \"ROU\", \"RUS\", \"RWA\", \"SAU\", \"SDN\", \"SEN\", \"SGP\", \"SLB\", \"SLE\", \"SLV\", \"SOM\", \"SRB\", \"SUR\", \"SVK\", \"SVN\", \"SWE\", \"SWZ\", \"SYR\", \"TCD\", \"TGO\", \"THA\", \"TJK\", \"TKM\", \"TLS\", \"TTO\", \"TUN\", \"TUR\", \"TZA\", \"UGA\", \"UKR\", \"URY\", \"USA\", \"UZB\", \"VEN\", \"VNM\", \"YEM\", \"ZAF\", \"COD\", \"ZMB\", \"ZWE\"], \"type\": \"scatter\", \"y\": [20.6000003815, 10.800000190699999, 25.7999992371, 19.5, 38.2999992371, 11.399999618499999, 8.8000001907, 14.600000381500001, 10.800000190699999, 22.5, 2.0, 5.1999998093, 8.1999998093, 22.8999996185, 10.1999998093, 57.2000007629, 13.199999809300001, 20.8999996185, 6.0, 17.2000007629, 25.2999992371, 10.899999618499999, 8.3999996185, 33.0, 10.800000190699999, 14.800000190699999, 7.6999998092999995, 18.6000003815, 9.0, 6.400000095399999, 10.6000003815, 24.2999992371, 10.6000003815, 18.2000007629, 17.0, 6.099999904600001, 16.0, 18.5, 9.6999998093, 14.100000381500001, 25.2999992371, 22.2000007629, 11.300000190699999, 26.2999992371, 10.800000190699999, 42.5, 33.2999992371, 7.400000095399999, 20.3999996185, 20.1000003815, 22.6000003815, 34.5, 19.6000003815, 36.7999992371, 11.399999618499999, 1.8999999762, 32.4000015259, 5.6999998092999995, 23.2999992371, 12.100000381500001, 9.1000003815, 33.5, 19.2999992371, 26.6000003815, 25.0, 10.1999998093, 28.0, 28.3999996185, 32.2999992371, 16.1000003815, 13.600000381500001, 27.7999992371, 30.0, 30.1000003815, 9.1000003815, 6.0, 17.1000003815, 16.6000003815, 0.8999999762, 9.6999998093, 10.6000003815, 20.8999996185, 5.0, 43.7999992371, 18.7999992371, 35.5999984741, 35.2000007629, 14.5, 34.9000015259, 5.3000001907, 17.7000007629, 17.7000007629, 6.1999998092999995, 25.3999996185, 9.3999996185, 53.7000007629, 10.3000001907, 13.199999809300001, 9.3999996185, 46.0, 14.100000381500001, 40.7000007629, 46.7000007629, 23.1000003815, 13.800000190699999, 11.0, 18.3279230855, 44.0999984741, 7.1999998092999995, 13.800000190699999, 12.300000190699999, 8.8000001907, 9.1999998093, 4.0, 17.0, 19.2999992371, 8.1999998093, 14.899999618499999, 9.0, 16.7999992371, 5.400000095399999, 23.3999996185, 30.6000003815, 10.1999998093, 22.2999992371, 11.899999618499999, 17.7982556316, 1.5, 22.2999992371, 16.7999992371, 0.6999999881, 29.7999992371, 22.7999992371, 13.0, 9.8999996185, 9.1000003815, 5.0999999046, 13.0, 10.5, 45.5, 20.7000007629, 33.7000007629, 14.600000381500001, 25.2000007629, 42.0, 19.2999992371, 10.3999996185, 10.800000190699999, 4.0, 17.2999992371, 20.6000003815, 13.100000381500001, 14.0, 29.3999996185, 21.2000007629, 5.599999904600001, 7.400000095399999, 17.3999996185, 20.7999992371, 18.7000007629, 20.6000003815, 17.5, 6.099999904600001, 30.2999992371, 50.7999992371, 12.300000190699999, 26.3999996185, 9.6000003815]}],\n",
       "                        {\"autosize\": true, \"hovermode\": \"closest\", \"showlegend\": false, \"template\": {\"data\": {\"bar\": [{\"error_x\": {\"color\": \"#2a3f5f\"}, \"error_y\": {\"color\": \"#2a3f5f\"}, \"marker\": {\"line\": {\"color\": \"#E5ECF6\", \"width\": 0.5}}, \"type\": \"bar\"}], \"barpolar\": [{\"marker\": {\"line\": {\"color\": \"#E5ECF6\", \"width\": 0.5}}, \"type\": \"barpolar\"}], \"carpet\": [{\"aaxis\": {\"endlinecolor\": \"#2a3f5f\", \"gridcolor\": \"white\", \"linecolor\": \"white\", \"minorgridcolor\": \"white\", \"startlinecolor\": \"#2a3f5f\"}, \"baxis\": {\"endlinecolor\": \"#2a3f5f\", \"gridcolor\": \"white\", \"linecolor\": \"white\", \"minorgridcolor\": \"white\", \"startlinecolor\": \"#2a3f5f\"}, \"type\": \"carpet\"}], \"choropleth\": [{\"colorbar\": {\"outlinewidth\": 0, \"ticks\": \"\"}, \"type\": \"choropleth\"}], \"contour\": [{\"colorbar\": {\"outlinewidth\": 0, \"ticks\": \"\"}, \"colorscale\": [[0.0, \"#0d0887\"], [0.1111111111111111, \"#46039f\"], [0.2222222222222222, \"#7201a8\"], [0.3333333333333333, \"#9c179e\"], [0.4444444444444444, \"#bd3786\"], [0.5555555555555556, \"#d8576b\"], [0.6666666666666666, \"#ed7953\"], [0.7777777777777778, \"#fb9f3a\"], [0.8888888888888888, \"#fdca26\"], [1.0, \"#f0f921\"]], \"type\": \"contour\"}], \"contourcarpet\": [{\"colorbar\": {\"outlinewidth\": 0, \"ticks\": \"\"}, \"type\": \"contourcarpet\"}], \"heatmap\": [{\"colorbar\": {\"outlinewidth\": 0, \"ticks\": \"\"}, \"colorscale\": [[0.0, \"#0d0887\"], [0.1111111111111111, \"#46039f\"], [0.2222222222222222, \"#7201a8\"], [0.3333333333333333, \"#9c179e\"], [0.4444444444444444, \"#bd3786\"], [0.5555555555555556, \"#d8576b\"], [0.6666666666666666, \"#ed7953\"], [0.7777777777777778, \"#fb9f3a\"], [0.8888888888888888, \"#fdca26\"], [1.0, \"#f0f921\"]], \"type\": \"heatmap\"}], \"heatmapgl\": [{\"colorbar\": {\"outlinewidth\": 0, \"ticks\": \"\"}, \"colorscale\": [[0.0, \"#0d0887\"], [0.1111111111111111, \"#46039f\"], [0.2222222222222222, \"#7201a8\"], [0.3333333333333333, \"#9c179e\"], [0.4444444444444444, \"#bd3786\"], [0.5555555555555556, \"#d8576b\"], [0.6666666666666666, \"#ed7953\"], [0.7777777777777778, \"#fb9f3a\"], [0.8888888888888888, \"#fdca26\"], [1.0, \"#f0f921\"]], \"type\": \"heatmapgl\"}], \"histogram\": [{\"marker\": {\"colorbar\": {\"outlinewidth\": 0, \"ticks\": \"\"}}, \"type\": \"histogram\"}], \"histogram2d\": [{\"colorbar\": {\"outlinewidth\": 0, \"ticks\": \"\"}, \"colorscale\": [[0.0, \"#0d0887\"], [0.1111111111111111, \"#46039f\"], [0.2222222222222222, \"#7201a8\"], [0.3333333333333333, \"#9c179e\"], [0.4444444444444444, \"#bd3786\"], [0.5555555555555556, \"#d8576b\"], [0.6666666666666666, \"#ed7953\"], [0.7777777777777778, \"#fb9f3a\"], [0.8888888888888888, \"#fdca26\"], [1.0, \"#f0f921\"]], \"type\": \"histogram2d\"}], \"histogram2dcontour\": [{\"colorbar\": {\"outlinewidth\": 0, \"ticks\": \"\"}, \"colorscale\": [[0.0, \"#0d0887\"], [0.1111111111111111, \"#46039f\"], [0.2222222222222222, \"#7201a8\"], [0.3333333333333333, \"#9c179e\"], [0.4444444444444444, \"#bd3786\"], [0.5555555555555556, \"#d8576b\"], [0.6666666666666666, \"#ed7953\"], [0.7777777777777778, \"#fb9f3a\"], [0.8888888888888888, \"#fdca26\"], [1.0, \"#f0f921\"]], \"type\": \"histogram2dcontour\"}], \"mesh3d\": [{\"colorbar\": {\"outlinewidth\": 0, \"ticks\": \"\"}, \"type\": \"mesh3d\"}], \"parcoords\": [{\"line\": {\"colorbar\": {\"outlinewidth\": 0, \"ticks\": \"\"}}, \"type\": \"parcoords\"}], \"scatter\": [{\"marker\": {\"colorbar\": {\"outlinewidth\": 0, \"ticks\": \"\"}}, \"type\": \"scatter\"}], \"scatter3d\": [{\"line\": {\"colorbar\": {\"outlinewidth\": 0, \"ticks\": \"\"}}, \"marker\": {\"colorbar\": {\"outlinewidth\": 0, \"ticks\": \"\"}}, \"type\": \"scatter3d\"}], \"scattercarpet\": [{\"marker\": {\"colorbar\": {\"outlinewidth\": 0, \"ticks\": \"\"}}, \"type\": \"scattercarpet\"}], \"scattergeo\": [{\"marker\": {\"colorbar\": {\"outlinewidth\": 0, \"ticks\": \"\"}}, \"type\": \"scattergeo\"}], \"scattergl\": [{\"marker\": {\"colorbar\": {\"outlinewidth\": 0, \"ticks\": \"\"}}, \"type\": \"scattergl\"}], \"scattermapbox\": [{\"marker\": {\"colorbar\": {\"outlinewidth\": 0, \"ticks\": \"\"}}, \"type\": \"scattermapbox\"}], \"scatterpolar\": [{\"marker\": {\"colorbar\": {\"outlinewidth\": 0, \"ticks\": \"\"}}, \"type\": \"scatterpolar\"}], \"scatterpolargl\": [{\"marker\": {\"colorbar\": {\"outlinewidth\": 0, \"ticks\": \"\"}}, \"type\": \"scatterpolargl\"}], \"scatterternary\": [{\"marker\": {\"colorbar\": {\"outlinewidth\": 0, \"ticks\": \"\"}}, \"type\": \"scatterternary\"}], \"surface\": [{\"colorbar\": {\"outlinewidth\": 0, \"ticks\": \"\"}, \"colorscale\": [[0.0, \"#0d0887\"], [0.1111111111111111, \"#46039f\"], [0.2222222222222222, \"#7201a8\"], [0.3333333333333333, \"#9c179e\"], [0.4444444444444444, \"#bd3786\"], [0.5555555555555556, \"#d8576b\"], [0.6666666666666666, \"#ed7953\"], [0.7777777777777778, \"#fb9f3a\"], [0.8888888888888888, \"#fdca26\"], [1.0, \"#f0f921\"]], \"type\": \"surface\"}], \"table\": [{\"cells\": {\"fill\": {\"color\": \"#EBF0F8\"}, \"line\": {\"color\": \"white\"}}, \"header\": {\"fill\": {\"color\": \"#C8D4E3\"}, \"line\": {\"color\": \"white\"}}, \"type\": \"table\"}]}, \"layout\": {\"annotationdefaults\": {\"arrowcolor\": \"#2a3f5f\", \"arrowhead\": 0, \"arrowwidth\": 1}, \"colorscale\": {\"diverging\": [[0, \"#8e0152\"], [0.1, \"#c51b7d\"], [0.2, \"#de77ae\"], [0.3, \"#f1b6da\"], [0.4, \"#fde0ef\"], [0.5, \"#f7f7f7\"], [0.6, \"#e6f5d0\"], [0.7, \"#b8e186\"], [0.8, \"#7fbc41\"], [0.9, \"#4d9221\"], [1, \"#276419\"]], \"sequential\": [[0.0, \"#0d0887\"], [0.1111111111111111, \"#46039f\"], [0.2222222222222222, \"#7201a8\"], [0.3333333333333333, \"#9c179e\"], [0.4444444444444444, \"#bd3786\"], [0.5555555555555556, \"#d8576b\"], [0.6666666666666666, \"#ed7953\"], [0.7777777777777778, \"#fb9f3a\"], [0.8888888888888888, \"#fdca26\"], [1.0, \"#f0f921\"]], \"sequentialminus\": [[0.0, \"#0d0887\"], [0.1111111111111111, \"#46039f\"], [0.2222222222222222, \"#7201a8\"], [0.3333333333333333, \"#9c179e\"], [0.4444444444444444, \"#bd3786\"], [0.5555555555555556, \"#d8576b\"], [0.6666666666666666, \"#ed7953\"], [0.7777777777777778, \"#fb9f3a\"], [0.8888888888888888, \"#fdca26\"], [1.0, \"#f0f921\"]]}, \"colorway\": [\"#636efa\", \"#EF553B\", \"#00cc96\", \"#ab63fa\", \"#FFA15A\", \"#19d3f3\", \"#FF6692\", \"#B6E880\", \"#FF97FF\", \"#FECB52\"], \"font\": {\"color\": \"#2a3f5f\"}, \"geo\": {\"bgcolor\": \"white\", \"lakecolor\": \"white\", \"landcolor\": \"#E5ECF6\", \"showlakes\": true, \"showland\": true, \"subunitcolor\": \"white\"}, \"hoverlabel\": {\"align\": \"left\"}, \"hovermode\": \"closest\", \"mapbox\": {\"style\": \"light\"}, \"paper_bgcolor\": \"white\", \"plot_bgcolor\": \"#E5ECF6\", \"polar\": {\"angularaxis\": {\"gridcolor\": \"white\", \"linecolor\": \"white\", \"ticks\": \"\"}, \"bgcolor\": \"#E5ECF6\", \"radialaxis\": {\"gridcolor\": \"white\", \"linecolor\": \"white\", \"ticks\": \"\"}}, \"scene\": {\"xaxis\": {\"backgroundcolor\": \"#E5ECF6\", \"gridcolor\": \"white\", \"gridwidth\": 2, \"linecolor\": \"white\", \"showbackground\": true, \"ticks\": \"\", \"zerolinecolor\": \"white\"}, \"yaxis\": {\"backgroundcolor\": \"#E5ECF6\", \"gridcolor\": \"white\", \"gridwidth\": 2, \"linecolor\": \"white\", \"showbackground\": true, \"ticks\": \"\", \"zerolinecolor\": \"white\"}, \"zaxis\": {\"backgroundcolor\": \"#E5ECF6\", \"gridcolor\": \"white\", \"gridwidth\": 2, \"linecolor\": \"white\", \"showbackground\": true, \"ticks\": \"\", \"zerolinecolor\": \"white\"}}, \"shapedefaults\": {\"line\": {\"color\": \"#2a3f5f\"}}, \"ternary\": {\"aaxis\": {\"gridcolor\": \"white\", \"linecolor\": \"white\", \"ticks\": \"\"}, \"baxis\": {\"gridcolor\": \"white\", \"linecolor\": \"white\", \"ticks\": \"\"}, \"bgcolor\": \"#E5ECF6\", \"caxis\": {\"gridcolor\": \"white\", \"linecolor\": \"white\", \"ticks\": \"\"}}, \"title\": {\"x\": 0.05}, \"xaxis\": {\"automargin\": true, \"gridcolor\": \"white\", \"linecolor\": \"white\", \"ticks\": \"\", \"zerolinecolor\": \"white\", \"zerolinewidth\": 2}, \"yaxis\": {\"automargin\": true, \"gridcolor\": \"white\", \"linecolor\": \"white\", \"ticks\": \"\", \"zerolinecolor\": \"white\", \"zerolinewidth\": 2}}}, \"title\": {\"text\": \"Scatter plot of unemployment rates in 2010\"}, \"yaxis\": {\"gridwidth\": 2, \"ticklen\": 5, \"title\": {\"text\": \"Unemployment Rate\"}}},\n",
       "                        {\"responsive\": true}\n",
       "                    ).then(function(){\n",
       "                            \n",
       "var gd = document.getElementById('12c1c5ad-0fd3-48e8-9c27-d9e348462104');\n",
       "var x = new MutationObserver(function (mutations, observer) {{\n",
       "        var display = window.getComputedStyle(gd).display;\n",
       "        if (!display || display === 'none') {{\n",
       "            console.log([gd, 'removed!']);\n",
       "            Plotly.purge(gd);\n",
       "            observer.disconnect();\n",
       "        }}\n",
       "}});\n",
       "\n",
       "// Listen for the removal of the full notebook cells\n",
       "var notebookContainer = gd.closest('#notebook-container');\n",
       "if (notebookContainer) {{\n",
       "    x.observe(notebookContainer, {childList: true});\n",
       "}}\n",
       "\n",
       "// Listen for the clearing of the current output cell\n",
       "var outputEl = gd.closest('.output');\n",
       "if (outputEl) {{\n",
       "    x.observe(outputEl, {childList: true});\n",
       "}}\n",
       "\n",
       "                        })\n",
       "                };\n",
       "                });\n",
       "            </script>\n",
       "        </div>"
      ]
     },
     "metadata": {},
     "output_type": "display_data"
    }
   ],
   "source": [
    "# creating a scatter plot of 2010 and 2014\n",
    "\n",
    "trace = go.Scatter(\n",
    "    y = UnemploymentCleaned['2010'].values,\n",
    "    mode='markers',\n",
    "    marker=dict(\n",
    "        size= UnemploymentCleaned['2010'].values,\n",
    "        color = UnemploymentCleaned['2010'].values,\n",
    "        colorscale='Portland',\n",
    "        showscale=True\n",
    "    ),\n",
    "    text = UnemploymentCleaned['Country Code'].values,\n",
    "    hoverinfo = 'text',\n",
    ")\n",
    "data = [trace]\n",
    "\n",
    "layout= go.Layout(\n",
    "    autosize= True,\n",
    "    title= 'Scatter plot of unemployment rates in 2010',\n",
    "    hovermode= 'closest',\n",
    "    yaxis=dict(\n",
    "        title= 'Unemployment Rate',\n",
    "        ticklen= 5,\n",
    "        gridwidth= 2,\n",
    "    ),\n",
    "    showlegend= False\n",
    ")\n",
    "fig = go.Figure(data=data, layout=layout)\n",
    "py.iplot(fig,filename='scatter2010')"
   ]
  },
  {
   "cell_type": "code",
   "execution_count": 232,
   "metadata": {
    "scrolled": true
   },
   "outputs": [
    {
     "data": {
      "application/vnd.plotly.v1+json": {
       "config": {
        "linkText": "Export to plot.ly",
        "plotlyServerURL": "https://plot.ly",
        "showLink": false
       },
       "data": [
        {
         "hoverinfo": "text",
         "marker": {
          "color": [
           20.7999992371,
           10.5,
           29.2000007629,
           21.2999992371,
           35.0999984741,
           13.100000381500001,
           9.1999998093,
           13.600000381500001,
           10.6999998093,
           23.6000003815,
           1.7000000477000001,
           5,
           9.1000003815,
           25.8999996185,
           10.899999618499999,
           57.5,
           12,
           22,
           5.1999998093,
           15.199999809300001,
           26.7999992371,
           11.100000381500001,
           10,
           33.9000015259,
           11.899999618499999,
           13.399999618499999,
           8.6999998093,
           16.3999996185,
           10.5,
           6.6999998092999995,
           10.6999998093,
           18.8999996185,
           10.6000003815,
           18.7999992371,
           19.2000007629,
           7.099999904600001,
           35.7000007629,
           16.7000007629,
           7.599999904600001,
           12.399999618499999,
           31.3999996185,
           20,
           10.800000190699999,
           42,
           10.899999618499999,
           57.9000015259,
           17,
           7.099999904600001,
           19.2000007629,
           18.6000003815,
           23.8999996185,
           35.5,
           16.7000007629,
           34.0999984741,
           3.2999999523000003,
           1.7000000477000001,
           53.9000015259,
           5.400000095399999,
           23.7999992371,
           8.5,
           6.900000095399999,
           45.9000015259,
           17.1000003815,
           21,
           21.7999992371,
           10.3999996185,
           25.7999992371,
           29.3999996185,
           34.5999984741,
           10.899999618499999,
           11,
           44.0999984741,
           30.5,
           28.7999992371,
           6.5,
           3.5,
           17.3999996185,
           14.699999809300001,
           0.8999999762,
           10.3999996185,
           19.3999996185,
           20.7000007629,
           4.5999999046,
           48.9000015259,
           19.1000003815,
           33,
           21.5,
           16,
           19.2999992371,
           2.9000000954000003,
           20.2000007629,
           8.5,
           5.1999998093,
           26.8999996185,
           9.8999996185,
           50.7999992371,
           10.5,
           13.600000381500001,
           9.5,
           39.5,
           9.3000001907,
           40.7000007629,
           46.5999984741,
           21.2000007629,
           13.800000190699999,
           6.6999998092999995,
           13.9430995948,
           38.7000007629,
           7.099999904600001,
           13.600000381500001,
           7.599999904600001,
           11.100000381500001,
           8.3999996185,
           4,
           14.600000381500001,
           18.7999992371,
           8.6000003815,
           11,
           9.1999998093,
           16.3999996185,
           5.400000095399999,
           24,
           27.7999992371,
           10.6000003815,
           36.7999992371,
           9.3000001907,
           17.1987833422,
           1.2999999523,
           25.1000003815,
           12.899999618499999,
           0.6999999881,
           29.5,
           23.2999992371,
           13,
           9.6000003815,
           9.5,
           4.9000000954,
           11.699999809300001,
           10.6000003815,
           49.5,
           17.8999996185,
           31.1000003815,
           20.7999992371,
           22.7999992371,
           42.5999984741,
           30.1000003815,
           10.5,
           10.6999998093,
           3.9000000954000003,
           15.5,
           20.2000007629,
           14,
           10.6000003815,
           31.7999992371,
           17.7000007629,
           5.5,
           6.8000001907000005,
           16.8999996185,
           19.1000003815,
           14,
           20.2999992371,
           17.1000003815,
           6.3000001907000005,
           29.8999996185,
           52.5999984741,
           11.899999618499999,
           25.1000003815,
           9.3999996185
          ],
          "colorscale": [
           [
            0,
            "rgb(12,51,131)"
           ],
           [
            0.25,
            "rgb(10,136,186)"
           ],
           [
            0.5,
            "rgb(242,211,56)"
           ],
           [
            0.75,
            "rgb(242,143,56)"
           ],
           [
            1,
            "rgb(217,30,30)"
           ]
          ],
          "showscale": true,
          "size": [
           20.7999992371,
           10.5,
           29.2000007629,
           21.2999992371,
           35.0999984741,
           13.100000381500001,
           9.1999998093,
           13.600000381500001,
           10.6999998093,
           23.6000003815,
           1.7000000477000001,
           5,
           9.1000003815,
           25.8999996185,
           10.899999618499999,
           57.5,
           12,
           22,
           5.1999998093,
           15.199999809300001,
           26.7999992371,
           11.100000381500001,
           10,
           33.9000015259,
           11.899999618499999,
           13.399999618499999,
           8.6999998093,
           16.3999996185,
           10.5,
           6.6999998092999995,
           10.6999998093,
           18.8999996185,
           10.6000003815,
           18.7999992371,
           19.2000007629,
           7.099999904600001,
           35.7000007629,
           16.7000007629,
           7.599999904600001,
           12.399999618499999,
           31.3999996185,
           20,
           10.800000190699999,
           42,
           10.899999618499999,
           57.9000015259,
           17,
           7.099999904600001,
           19.2000007629,
           18.6000003815,
           23.8999996185,
           35.5,
           16.7000007629,
           34.0999984741,
           3.2999999523000003,
           1.7000000477000001,
           53.9000015259,
           5.400000095399999,
           23.7999992371,
           8.5,
           6.900000095399999,
           45.9000015259,
           17.1000003815,
           21,
           21.7999992371,
           10.3999996185,
           25.7999992371,
           29.3999996185,
           34.5999984741,
           10.899999618499999,
           11,
           44.0999984741,
           30.5,
           28.7999992371,
           6.5,
           3.5,
           17.3999996185,
           14.699999809300001,
           0.8999999762,
           10.3999996185,
           19.3999996185,
           20.7000007629,
           4.5999999046,
           48.9000015259,
           19.1000003815,
           33,
           21.5,
           16,
           19.2999992371,
           2.9000000954000003,
           20.2000007629,
           8.5,
           5.1999998093,
           26.8999996185,
           9.8999996185,
           50.7999992371,
           10.5,
           13.600000381500001,
           9.5,
           39.5,
           9.3000001907,
           40.7000007629,
           46.5999984741,
           21.2000007629,
           13.800000190699999,
           6.6999998092999995,
           13.9430995948,
           38.7000007629,
           7.099999904600001,
           13.600000381500001,
           7.599999904600001,
           11.100000381500001,
           8.3999996185,
           4,
           14.600000381500001,
           18.7999992371,
           8.6000003815,
           11,
           9.1999998093,
           16.3999996185,
           5.400000095399999,
           24,
           27.7999992371,
           10.6000003815,
           36.7999992371,
           9.3000001907,
           17.1987833422,
           1.2999999523,
           25.1000003815,
           12.899999618499999,
           0.6999999881,
           29.5,
           23.2999992371,
           13,
           9.6000003815,
           9.5,
           4.9000000954,
           11.699999809300001,
           10.6000003815,
           49.5,
           17.8999996185,
           31.1000003815,
           20.7999992371,
           22.7999992371,
           42.5999984741,
           30.1000003815,
           10.5,
           10.6999998093,
           3.9000000954000003,
           15.5,
           20.2000007629,
           14,
           10.6000003815,
           31.7999992371,
           17.7000007629,
           5.5,
           6.8000001907000005,
           16.8999996185,
           19.1000003815,
           14,
           20.2999992371,
           17.1000003815,
           6.3000001907000005,
           29.8999996185,
           52.5999984741,
           11.899999618499999,
           25.1000003815,
           9.3999996185
          ]
         },
         "mode": "markers",
         "text": [
          "AFG",
          "AGO",
          "ALB",
          "ARG",
          "ARM",
          "AUS",
          "AUT",
          "AZE",
          "BDI",
          "BEL",
          "BEN",
          "BFA",
          "BGD",
          "BGR",
          "BHR",
          "BIH",
          "BLR",
          "BLZ",
          "BOL",
          "BRA",
          "BRB",
          "BRN",
          "BTN",
          "BWA",
          "CAF",
          "CAN",
          "CHE",
          "CHL",
          "CHN",
          "CMR",
          "COG",
          "COL",
          "COM",
          "CPV",
          "CRI",
          "CUB",
          "CYP",
          "CZE",
          "DEU",
          "DNK",
          "DOM",
          "DZA",
          "ECU",
          "EGY",
          "ERI",
          "ESP",
          "EST",
          "ETH",
          "FIN",
          "FJI",
          "FRA",
          "GAB",
          "GBR",
          "GEO",
          "GHA",
          "GIN",
          "GRC",
          "GTM",
          "GUY",
          "HKG",
          "HND",
          "HRV",
          "HTI",
          "HUN",
          "IDN",
          "IND",
          "IRL",
          "IRN",
          "IRQ",
          "ISL",
          "ISR",
          "ITA",
          "JAM",
          "JOR",
          "JPN",
          "KAZ",
          "KEN",
          "KGZ",
          "KHM",
          "KOR",
          "KWT",
          "LBN",
          "LBR",
          "LBY",
          "LKA",
          "LSO",
          "LTU",
          "LUX",
          "LVA",
          "MAC",
          "MAR",
          "MDA",
          "MDG",
          "MDV",
          "MEX",
          "MKD",
          "MLI",
          "MLT",
          "MMR",
          "MNE",
          "MNG",
          "MOZ",
          "MRT",
          "MUS",
          "MWI",
          "MYS",
          "NAC",
          "NAM",
          "NER",
          "NGA",
          "NIC",
          "NLD",
          "NOR",
          "NPL",
          "NZL",
          "OMN",
          "PAK",
          "PAN",
          "PER",
          "PHL",
          "PNG",
          "POL",
          "PRI",
          "PRK",
          "PRT",
          "PRY",
          "PST",
          "QAT",
          "ROU",
          "RUS",
          "RWA",
          "SAU",
          "SDN",
          "SEN",
          "SGP",
          "SLB",
          "SLE",
          "SLV",
          "SOM",
          "SRB",
          "SUR",
          "SVK",
          "SVN",
          "SWE",
          "SWZ",
          "SYR",
          "TCD",
          "TGO",
          "THA",
          "TJK",
          "TKM",
          "TLS",
          "TTO",
          "TUN",
          "TUR",
          "TZA",
          "UGA",
          "UKR",
          "URY",
          "USA",
          "UZB",
          "VEN",
          "VNM",
          "YEM",
          "ZAF",
          "COD",
          "ZMB",
          "ZWE"
         ],
         "type": "scatter",
         "y": [
          20.7999992371,
          10.5,
          29.2000007629,
          21.2999992371,
          35.0999984741,
          13.100000381500001,
          9.1999998093,
          13.600000381500001,
          10.6999998093,
          23.6000003815,
          1.7000000477000001,
          5,
          9.1000003815,
          25.8999996185,
          10.899999618499999,
          57.5,
          12,
          22,
          5.1999998093,
          15.199999809300001,
          26.7999992371,
          11.100000381500001,
          10,
          33.9000015259,
          11.899999618499999,
          13.399999618499999,
          8.6999998093,
          16.3999996185,
          10.5,
          6.6999998092999995,
          10.6999998093,
          18.8999996185,
          10.6000003815,
          18.7999992371,
          19.2000007629,
          7.099999904600001,
          35.7000007629,
          16.7000007629,
          7.599999904600001,
          12.399999618499999,
          31.3999996185,
          20,
          10.800000190699999,
          42,
          10.899999618499999,
          57.9000015259,
          17,
          7.099999904600001,
          19.2000007629,
          18.6000003815,
          23.8999996185,
          35.5,
          16.7000007629,
          34.0999984741,
          3.2999999523000003,
          1.7000000477000001,
          53.9000015259,
          5.400000095399999,
          23.7999992371,
          8.5,
          6.900000095399999,
          45.9000015259,
          17.1000003815,
          21,
          21.7999992371,
          10.3999996185,
          25.7999992371,
          29.3999996185,
          34.5999984741,
          10.899999618499999,
          11,
          44.0999984741,
          30.5,
          28.7999992371,
          6.5,
          3.5,
          17.3999996185,
          14.699999809300001,
          0.8999999762,
          10.3999996185,
          19.3999996185,
          20.7000007629,
          4.5999999046,
          48.9000015259,
          19.1000003815,
          33,
          21.5,
          16,
          19.2999992371,
          2.9000000954000003,
          20.2000007629,
          8.5,
          5.1999998093,
          26.8999996185,
          9.8999996185,
          50.7999992371,
          10.5,
          13.600000381500001,
          9.5,
          39.5,
          9.3000001907,
          40.7000007629,
          46.5999984741,
          21.2000007629,
          13.800000190699999,
          6.6999998092999995,
          13.9430995948,
          38.7000007629,
          7.099999904600001,
          13.600000381500001,
          7.599999904600001,
          11.100000381500001,
          8.3999996185,
          4,
          14.600000381500001,
          18.7999992371,
          8.6000003815,
          11,
          9.1999998093,
          16.3999996185,
          5.400000095399999,
          24,
          27.7999992371,
          10.6000003815,
          36.7999992371,
          9.3000001907,
          17.1987833422,
          1.2999999523,
          25.1000003815,
          12.899999618499999,
          0.6999999881,
          29.5,
          23.2999992371,
          13,
          9.6000003815,
          9.5,
          4.9000000954,
          11.699999809300001,
          10.6000003815,
          49.5,
          17.8999996185,
          31.1000003815,
          20.7999992371,
          22.7999992371,
          42.5999984741,
          30.1000003815,
          10.5,
          10.6999998093,
          3.9000000954000003,
          15.5,
          20.2000007629,
          14,
          10.6000003815,
          31.7999992371,
          17.7000007629,
          5.5,
          6.8000001907000005,
          16.8999996185,
          19.1000003815,
          14,
          20.2999992371,
          17.1000003815,
          6.3000001907000005,
          29.8999996185,
          52.5999984741,
          11.899999618499999,
          25.1000003815,
          9.3999996185
         ]
        }
       ],
       "layout": {
        "hovermode": "closest",
        "showlegend": false,
        "template": {
         "data": {
          "bar": [
           {
            "error_x": {
             "color": "#2a3f5f"
            },
            "error_y": {
             "color": "#2a3f5f"
            },
            "marker": {
             "line": {
              "color": "#E5ECF6",
              "width": 0.5
             }
            },
            "type": "bar"
           }
          ],
          "barpolar": [
           {
            "marker": {
             "line": {
              "color": "#E5ECF6",
              "width": 0.5
             }
            },
            "type": "barpolar"
           }
          ],
          "carpet": [
           {
            "aaxis": {
             "endlinecolor": "#2a3f5f",
             "gridcolor": "white",
             "linecolor": "white",
             "minorgridcolor": "white",
             "startlinecolor": "#2a3f5f"
            },
            "baxis": {
             "endlinecolor": "#2a3f5f",
             "gridcolor": "white",
             "linecolor": "white",
             "minorgridcolor": "white",
             "startlinecolor": "#2a3f5f"
            },
            "type": "carpet"
           }
          ],
          "choropleth": [
           {
            "colorbar": {
             "outlinewidth": 0,
             "ticks": ""
            },
            "type": "choropleth"
           }
          ],
          "contour": [
           {
            "colorbar": {
             "outlinewidth": 0,
             "ticks": ""
            },
            "colorscale": [
             [
              0,
              "#0d0887"
             ],
             [
              0.1111111111111111,
              "#46039f"
             ],
             [
              0.2222222222222222,
              "#7201a8"
             ],
             [
              0.3333333333333333,
              "#9c179e"
             ],
             [
              0.4444444444444444,
              "#bd3786"
             ],
             [
              0.5555555555555556,
              "#d8576b"
             ],
             [
              0.6666666666666666,
              "#ed7953"
             ],
             [
              0.7777777777777778,
              "#fb9f3a"
             ],
             [
              0.8888888888888888,
              "#fdca26"
             ],
             [
              1,
              "#f0f921"
             ]
            ],
            "type": "contour"
           }
          ],
          "contourcarpet": [
           {
            "colorbar": {
             "outlinewidth": 0,
             "ticks": ""
            },
            "type": "contourcarpet"
           }
          ],
          "heatmap": [
           {
            "colorbar": {
             "outlinewidth": 0,
             "ticks": ""
            },
            "colorscale": [
             [
              0,
              "#0d0887"
             ],
             [
              0.1111111111111111,
              "#46039f"
             ],
             [
              0.2222222222222222,
              "#7201a8"
             ],
             [
              0.3333333333333333,
              "#9c179e"
             ],
             [
              0.4444444444444444,
              "#bd3786"
             ],
             [
              0.5555555555555556,
              "#d8576b"
             ],
             [
              0.6666666666666666,
              "#ed7953"
             ],
             [
              0.7777777777777778,
              "#fb9f3a"
             ],
             [
              0.8888888888888888,
              "#fdca26"
             ],
             [
              1,
              "#f0f921"
             ]
            ],
            "type": "heatmap"
           }
          ],
          "heatmapgl": [
           {
            "colorbar": {
             "outlinewidth": 0,
             "ticks": ""
            },
            "colorscale": [
             [
              0,
              "#0d0887"
             ],
             [
              0.1111111111111111,
              "#46039f"
             ],
             [
              0.2222222222222222,
              "#7201a8"
             ],
             [
              0.3333333333333333,
              "#9c179e"
             ],
             [
              0.4444444444444444,
              "#bd3786"
             ],
             [
              0.5555555555555556,
              "#d8576b"
             ],
             [
              0.6666666666666666,
              "#ed7953"
             ],
             [
              0.7777777777777778,
              "#fb9f3a"
             ],
             [
              0.8888888888888888,
              "#fdca26"
             ],
             [
              1,
              "#f0f921"
             ]
            ],
            "type": "heatmapgl"
           }
          ],
          "histogram": [
           {
            "marker": {
             "colorbar": {
              "outlinewidth": 0,
              "ticks": ""
             }
            },
            "type": "histogram"
           }
          ],
          "histogram2d": [
           {
            "colorbar": {
             "outlinewidth": 0,
             "ticks": ""
            },
            "colorscale": [
             [
              0,
              "#0d0887"
             ],
             [
              0.1111111111111111,
              "#46039f"
             ],
             [
              0.2222222222222222,
              "#7201a8"
             ],
             [
              0.3333333333333333,
              "#9c179e"
             ],
             [
              0.4444444444444444,
              "#bd3786"
             ],
             [
              0.5555555555555556,
              "#d8576b"
             ],
             [
              0.6666666666666666,
              "#ed7953"
             ],
             [
              0.7777777777777778,
              "#fb9f3a"
             ],
             [
              0.8888888888888888,
              "#fdca26"
             ],
             [
              1,
              "#f0f921"
             ]
            ],
            "type": "histogram2d"
           }
          ],
          "histogram2dcontour": [
           {
            "colorbar": {
             "outlinewidth": 0,
             "ticks": ""
            },
            "colorscale": [
             [
              0,
              "#0d0887"
             ],
             [
              0.1111111111111111,
              "#46039f"
             ],
             [
              0.2222222222222222,
              "#7201a8"
             ],
             [
              0.3333333333333333,
              "#9c179e"
             ],
             [
              0.4444444444444444,
              "#bd3786"
             ],
             [
              0.5555555555555556,
              "#d8576b"
             ],
             [
              0.6666666666666666,
              "#ed7953"
             ],
             [
              0.7777777777777778,
              "#fb9f3a"
             ],
             [
              0.8888888888888888,
              "#fdca26"
             ],
             [
              1,
              "#f0f921"
             ]
            ],
            "type": "histogram2dcontour"
           }
          ],
          "mesh3d": [
           {
            "colorbar": {
             "outlinewidth": 0,
             "ticks": ""
            },
            "type": "mesh3d"
           }
          ],
          "parcoords": [
           {
            "line": {
             "colorbar": {
              "outlinewidth": 0,
              "ticks": ""
             }
            },
            "type": "parcoords"
           }
          ],
          "scatter": [
           {
            "marker": {
             "colorbar": {
              "outlinewidth": 0,
              "ticks": ""
             }
            },
            "type": "scatter"
           }
          ],
          "scatter3d": [
           {
            "line": {
             "colorbar": {
              "outlinewidth": 0,
              "ticks": ""
             }
            },
            "marker": {
             "colorbar": {
              "outlinewidth": 0,
              "ticks": ""
             }
            },
            "type": "scatter3d"
           }
          ],
          "scattercarpet": [
           {
            "marker": {
             "colorbar": {
              "outlinewidth": 0,
              "ticks": ""
             }
            },
            "type": "scattercarpet"
           }
          ],
          "scattergeo": [
           {
            "marker": {
             "colorbar": {
              "outlinewidth": 0,
              "ticks": ""
             }
            },
            "type": "scattergeo"
           }
          ],
          "scattergl": [
           {
            "marker": {
             "colorbar": {
              "outlinewidth": 0,
              "ticks": ""
             }
            },
            "type": "scattergl"
           }
          ],
          "scattermapbox": [
           {
            "marker": {
             "colorbar": {
              "outlinewidth": 0,
              "ticks": ""
             }
            },
            "type": "scattermapbox"
           }
          ],
          "scatterpolar": [
           {
            "marker": {
             "colorbar": {
              "outlinewidth": 0,
              "ticks": ""
             }
            },
            "type": "scatterpolar"
           }
          ],
          "scatterpolargl": [
           {
            "marker": {
             "colorbar": {
              "outlinewidth": 0,
              "ticks": ""
             }
            },
            "type": "scatterpolargl"
           }
          ],
          "scatterternary": [
           {
            "marker": {
             "colorbar": {
              "outlinewidth": 0,
              "ticks": ""
             }
            },
            "type": "scatterternary"
           }
          ],
          "surface": [
           {
            "colorbar": {
             "outlinewidth": 0,
             "ticks": ""
            },
            "colorscale": [
             [
              0,
              "#0d0887"
             ],
             [
              0.1111111111111111,
              "#46039f"
             ],
             [
              0.2222222222222222,
              "#7201a8"
             ],
             [
              0.3333333333333333,
              "#9c179e"
             ],
             [
              0.4444444444444444,
              "#bd3786"
             ],
             [
              0.5555555555555556,
              "#d8576b"
             ],
             [
              0.6666666666666666,
              "#ed7953"
             ],
             [
              0.7777777777777778,
              "#fb9f3a"
             ],
             [
              0.8888888888888888,
              "#fdca26"
             ],
             [
              1,
              "#f0f921"
             ]
            ],
            "type": "surface"
           }
          ],
          "table": [
           {
            "cells": {
             "fill": {
              "color": "#EBF0F8"
             },
             "line": {
              "color": "white"
             }
            },
            "header": {
             "fill": {
              "color": "#C8D4E3"
             },
             "line": {
              "color": "white"
             }
            },
            "type": "table"
           }
          ]
         },
         "layout": {
          "annotationdefaults": {
           "arrowcolor": "#2a3f5f",
           "arrowhead": 0,
           "arrowwidth": 1
          },
          "colorscale": {
           "diverging": [
            [
             0,
             "#8e0152"
            ],
            [
             0.1,
             "#c51b7d"
            ],
            [
             0.2,
             "#de77ae"
            ],
            [
             0.3,
             "#f1b6da"
            ],
            [
             0.4,
             "#fde0ef"
            ],
            [
             0.5,
             "#f7f7f7"
            ],
            [
             0.6,
             "#e6f5d0"
            ],
            [
             0.7,
             "#b8e186"
            ],
            [
             0.8,
             "#7fbc41"
            ],
            [
             0.9,
             "#4d9221"
            ],
            [
             1,
             "#276419"
            ]
           ],
           "sequential": [
            [
             0,
             "#0d0887"
            ],
            [
             0.1111111111111111,
             "#46039f"
            ],
            [
             0.2222222222222222,
             "#7201a8"
            ],
            [
             0.3333333333333333,
             "#9c179e"
            ],
            [
             0.4444444444444444,
             "#bd3786"
            ],
            [
             0.5555555555555556,
             "#d8576b"
            ],
            [
             0.6666666666666666,
             "#ed7953"
            ],
            [
             0.7777777777777778,
             "#fb9f3a"
            ],
            [
             0.8888888888888888,
             "#fdca26"
            ],
            [
             1,
             "#f0f921"
            ]
           ],
           "sequentialminus": [
            [
             0,
             "#0d0887"
            ],
            [
             0.1111111111111111,
             "#46039f"
            ],
            [
             0.2222222222222222,
             "#7201a8"
            ],
            [
             0.3333333333333333,
             "#9c179e"
            ],
            [
             0.4444444444444444,
             "#bd3786"
            ],
            [
             0.5555555555555556,
             "#d8576b"
            ],
            [
             0.6666666666666666,
             "#ed7953"
            ],
            [
             0.7777777777777778,
             "#fb9f3a"
            ],
            [
             0.8888888888888888,
             "#fdca26"
            ],
            [
             1,
             "#f0f921"
            ]
           ]
          },
          "colorway": [
           "#636efa",
           "#EF553B",
           "#00cc96",
           "#ab63fa",
           "#FFA15A",
           "#19d3f3",
           "#FF6692",
           "#B6E880",
           "#FF97FF",
           "#FECB52"
          ],
          "font": {
           "color": "#2a3f5f"
          },
          "geo": {
           "bgcolor": "white",
           "lakecolor": "white",
           "landcolor": "#E5ECF6",
           "showlakes": true,
           "showland": true,
           "subunitcolor": "white"
          },
          "hoverlabel": {
           "align": "left"
          },
          "hovermode": "closest",
          "mapbox": {
           "style": "light"
          },
          "paper_bgcolor": "white",
          "plot_bgcolor": "#E5ECF6",
          "polar": {
           "angularaxis": {
            "gridcolor": "white",
            "linecolor": "white",
            "ticks": ""
           },
           "bgcolor": "#E5ECF6",
           "radialaxis": {
            "gridcolor": "white",
            "linecolor": "white",
            "ticks": ""
           }
          },
          "scene": {
           "xaxis": {
            "backgroundcolor": "#E5ECF6",
            "gridcolor": "white",
            "gridwidth": 2,
            "linecolor": "white",
            "showbackground": true,
            "ticks": "",
            "zerolinecolor": "white"
           },
           "yaxis": {
            "backgroundcolor": "#E5ECF6",
            "gridcolor": "white",
            "gridwidth": 2,
            "linecolor": "white",
            "showbackground": true,
            "ticks": "",
            "zerolinecolor": "white"
           },
           "zaxis": {
            "backgroundcolor": "#E5ECF6",
            "gridcolor": "white",
            "gridwidth": 2,
            "linecolor": "white",
            "showbackground": true,
            "ticks": "",
            "zerolinecolor": "white"
           }
          },
          "shapedefaults": {
           "line": {
            "color": "#2a3f5f"
           }
          },
          "ternary": {
           "aaxis": {
            "gridcolor": "white",
            "linecolor": "white",
            "ticks": ""
           },
           "baxis": {
            "gridcolor": "white",
            "linecolor": "white",
            "ticks": ""
           },
           "bgcolor": "#E5ECF6",
           "caxis": {
            "gridcolor": "white",
            "linecolor": "white",
            "ticks": ""
           }
          },
          "title": {
           "x": 0.05
          },
          "xaxis": {
           "automargin": true,
           "gridcolor": "white",
           "linecolor": "white",
           "ticks": "",
           "zerolinecolor": "white",
           "zerolinewidth": 2
          },
          "yaxis": {
           "automargin": true,
           "gridcolor": "white",
           "linecolor": "white",
           "ticks": "",
           "zerolinecolor": "white",
           "zerolinewidth": 2
          }
         }
        },
        "title": {
         "text": "Scatter plot of unemployment rates in 2014"
        },
        "xaxis": {
         "gridwidth": 2,
         "ticklen": 5,
         "zeroline": false
        },
        "yaxis": {
         "gridwidth": 2,
         "ticklen": 5,
         "title": {
          "text": "Unemployment Rate"
         }
        }
       }
      },
      "text/html": [
       "<div>\n",
       "        \n",
       "        \n",
       "            <div id=\"e23f470d-b6c8-4ef2-a19c-faba82e348b8\" class=\"plotly-graph-div\" style=\"height:525px; width:100%;\"></div>\n",
       "            <script type=\"text/javascript\">\n",
       "                require([\"plotly\"], function(Plotly) {\n",
       "                    window.PLOTLYENV=window.PLOTLYENV || {};\n",
       "                    \n",
       "                if (document.getElementById(\"e23f470d-b6c8-4ef2-a19c-faba82e348b8\")) {\n",
       "                    Plotly.newPlot(\n",
       "                        'e23f470d-b6c8-4ef2-a19c-faba82e348b8',\n",
       "                        [{\"hoverinfo\": \"text\", \"marker\": {\"color\": [20.7999992371, 10.5, 29.2000007629, 21.2999992371, 35.0999984741, 13.100000381500001, 9.1999998093, 13.600000381500001, 10.6999998093, 23.6000003815, 1.7000000477000001, 5.0, 9.1000003815, 25.8999996185, 10.899999618499999, 57.5, 12.0, 22.0, 5.1999998093, 15.199999809300001, 26.7999992371, 11.100000381500001, 10.0, 33.9000015259, 11.899999618499999, 13.399999618499999, 8.6999998093, 16.3999996185, 10.5, 6.6999998092999995, 10.6999998093, 18.8999996185, 10.6000003815, 18.7999992371, 19.2000007629, 7.099999904600001, 35.7000007629, 16.7000007629, 7.599999904600001, 12.399999618499999, 31.3999996185, 20.0, 10.800000190699999, 42.0, 10.899999618499999, 57.9000015259, 17.0, 7.099999904600001, 19.2000007629, 18.6000003815, 23.8999996185, 35.5, 16.7000007629, 34.0999984741, 3.2999999523000003, 1.7000000477000001, 53.9000015259, 5.400000095399999, 23.7999992371, 8.5, 6.900000095399999, 45.9000015259, 17.1000003815, 21.0, 21.7999992371, 10.3999996185, 25.7999992371, 29.3999996185, 34.5999984741, 10.899999618499999, 11.0, 44.0999984741, 30.5, 28.7999992371, 6.5, 3.5, 17.3999996185, 14.699999809300001, 0.8999999762, 10.3999996185, 19.3999996185, 20.7000007629, 4.5999999046, 48.9000015259, 19.1000003815, 33.0, 21.5, 16.0, 19.2999992371, 2.9000000954000003, 20.2000007629, 8.5, 5.1999998093, 26.8999996185, 9.8999996185, 50.7999992371, 10.5, 13.600000381500001, 9.5, 39.5, 9.3000001907, 40.7000007629, 46.5999984741, 21.2000007629, 13.800000190699999, 6.6999998092999995, 13.9430995948, 38.7000007629, 7.099999904600001, 13.600000381500001, 7.599999904600001, 11.100000381500001, 8.3999996185, 4.0, 14.600000381500001, 18.7999992371, 8.6000003815, 11.0, 9.1999998093, 16.3999996185, 5.400000095399999, 24.0, 27.7999992371, 10.6000003815, 36.7999992371, 9.3000001907, 17.1987833422, 1.2999999523, 25.1000003815, 12.899999618499999, 0.6999999881, 29.5, 23.2999992371, 13.0, 9.6000003815, 9.5, 4.9000000954, 11.699999809300001, 10.6000003815, 49.5, 17.8999996185, 31.1000003815, 20.7999992371, 22.7999992371, 42.5999984741, 30.1000003815, 10.5, 10.6999998093, 3.9000000954000003, 15.5, 20.2000007629, 14.0, 10.6000003815, 31.7999992371, 17.7000007629, 5.5, 6.8000001907000005, 16.8999996185, 19.1000003815, 14.0, 20.2999992371, 17.1000003815, 6.3000001907000005, 29.8999996185, 52.5999984741, 11.899999618499999, 25.1000003815, 9.3999996185], \"colorscale\": [[0.0, \"rgb(12,51,131)\"], [0.25, \"rgb(10,136,186)\"], [0.5, \"rgb(242,211,56)\"], [0.75, \"rgb(242,143,56)\"], [1.0, \"rgb(217,30,30)\"]], \"showscale\": true, \"size\": [20.7999992371, 10.5, 29.2000007629, 21.2999992371, 35.0999984741, 13.100000381500001, 9.1999998093, 13.600000381500001, 10.6999998093, 23.6000003815, 1.7000000477000001, 5.0, 9.1000003815, 25.8999996185, 10.899999618499999, 57.5, 12.0, 22.0, 5.1999998093, 15.199999809300001, 26.7999992371, 11.100000381500001, 10.0, 33.9000015259, 11.899999618499999, 13.399999618499999, 8.6999998093, 16.3999996185, 10.5, 6.6999998092999995, 10.6999998093, 18.8999996185, 10.6000003815, 18.7999992371, 19.2000007629, 7.099999904600001, 35.7000007629, 16.7000007629, 7.599999904600001, 12.399999618499999, 31.3999996185, 20.0, 10.800000190699999, 42.0, 10.899999618499999, 57.9000015259, 17.0, 7.099999904600001, 19.2000007629, 18.6000003815, 23.8999996185, 35.5, 16.7000007629, 34.0999984741, 3.2999999523000003, 1.7000000477000001, 53.9000015259, 5.400000095399999, 23.7999992371, 8.5, 6.900000095399999, 45.9000015259, 17.1000003815, 21.0, 21.7999992371, 10.3999996185, 25.7999992371, 29.3999996185, 34.5999984741, 10.899999618499999, 11.0, 44.0999984741, 30.5, 28.7999992371, 6.5, 3.5, 17.3999996185, 14.699999809300001, 0.8999999762, 10.3999996185, 19.3999996185, 20.7000007629, 4.5999999046, 48.9000015259, 19.1000003815, 33.0, 21.5, 16.0, 19.2999992371, 2.9000000954000003, 20.2000007629, 8.5, 5.1999998093, 26.8999996185, 9.8999996185, 50.7999992371, 10.5, 13.600000381500001, 9.5, 39.5, 9.3000001907, 40.7000007629, 46.5999984741, 21.2000007629, 13.800000190699999, 6.6999998092999995, 13.9430995948, 38.7000007629, 7.099999904600001, 13.600000381500001, 7.599999904600001, 11.100000381500001, 8.3999996185, 4.0, 14.600000381500001, 18.7999992371, 8.6000003815, 11.0, 9.1999998093, 16.3999996185, 5.400000095399999, 24.0, 27.7999992371, 10.6000003815, 36.7999992371, 9.3000001907, 17.1987833422, 1.2999999523, 25.1000003815, 12.899999618499999, 0.6999999881, 29.5, 23.2999992371, 13.0, 9.6000003815, 9.5, 4.9000000954, 11.699999809300001, 10.6000003815, 49.5, 17.8999996185, 31.1000003815, 20.7999992371, 22.7999992371, 42.5999984741, 30.1000003815, 10.5, 10.6999998093, 3.9000000954000003, 15.5, 20.2000007629, 14.0, 10.6000003815, 31.7999992371, 17.7000007629, 5.5, 6.8000001907000005, 16.8999996185, 19.1000003815, 14.0, 20.2999992371, 17.1000003815, 6.3000001907000005, 29.8999996185, 52.5999984741, 11.899999618499999, 25.1000003815, 9.3999996185]}, \"mode\": \"markers\", \"text\": [\"AFG\", \"AGO\", \"ALB\", \"ARG\", \"ARM\", \"AUS\", \"AUT\", \"AZE\", \"BDI\", \"BEL\", \"BEN\", \"BFA\", \"BGD\", \"BGR\", \"BHR\", \"BIH\", \"BLR\", \"BLZ\", \"BOL\", \"BRA\", \"BRB\", \"BRN\", \"BTN\", \"BWA\", \"CAF\", \"CAN\", \"CHE\", \"CHL\", \"CHN\", \"CMR\", \"COG\", \"COL\", \"COM\", \"CPV\", \"CRI\", \"CUB\", \"CYP\", \"CZE\", \"DEU\", \"DNK\", \"DOM\", \"DZA\", \"ECU\", \"EGY\", \"ERI\", \"ESP\", \"EST\", \"ETH\", \"FIN\", \"FJI\", \"FRA\", \"GAB\", \"GBR\", \"GEO\", \"GHA\", \"GIN\", \"GRC\", \"GTM\", \"GUY\", \"HKG\", \"HND\", \"HRV\", \"HTI\", \"HUN\", \"IDN\", \"IND\", \"IRL\", \"IRN\", \"IRQ\", \"ISL\", \"ISR\", \"ITA\", \"JAM\", \"JOR\", \"JPN\", \"KAZ\", \"KEN\", \"KGZ\", \"KHM\", \"KOR\", \"KWT\", \"LBN\", \"LBR\", \"LBY\", \"LKA\", \"LSO\", \"LTU\", \"LUX\", \"LVA\", \"MAC\", \"MAR\", \"MDA\", \"MDG\", \"MDV\", \"MEX\", \"MKD\", \"MLI\", \"MLT\", \"MMR\", \"MNE\", \"MNG\", \"MOZ\", \"MRT\", \"MUS\", \"MWI\", \"MYS\", \"NAC\", \"NAM\", \"NER\", \"NGA\", \"NIC\", \"NLD\", \"NOR\", \"NPL\", \"NZL\", \"OMN\", \"PAK\", \"PAN\", \"PER\", \"PHL\", \"PNG\", \"POL\", \"PRI\", \"PRK\", \"PRT\", \"PRY\", \"PST\", \"QAT\", \"ROU\", \"RUS\", \"RWA\", \"SAU\", \"SDN\", \"SEN\", \"SGP\", \"SLB\", \"SLE\", \"SLV\", \"SOM\", \"SRB\", \"SUR\", \"SVK\", \"SVN\", \"SWE\", \"SWZ\", \"SYR\", \"TCD\", \"TGO\", \"THA\", \"TJK\", \"TKM\", \"TLS\", \"TTO\", \"TUN\", \"TUR\", \"TZA\", \"UGA\", \"UKR\", \"URY\", \"USA\", \"UZB\", \"VEN\", \"VNM\", \"YEM\", \"ZAF\", \"COD\", \"ZMB\", \"ZWE\"], \"type\": \"scatter\", \"y\": [20.7999992371, 10.5, 29.2000007629, 21.2999992371, 35.0999984741, 13.100000381500001, 9.1999998093, 13.600000381500001, 10.6999998093, 23.6000003815, 1.7000000477000001, 5.0, 9.1000003815, 25.8999996185, 10.899999618499999, 57.5, 12.0, 22.0, 5.1999998093, 15.199999809300001, 26.7999992371, 11.100000381500001, 10.0, 33.9000015259, 11.899999618499999, 13.399999618499999, 8.6999998093, 16.3999996185, 10.5, 6.6999998092999995, 10.6999998093, 18.8999996185, 10.6000003815, 18.7999992371, 19.2000007629, 7.099999904600001, 35.7000007629, 16.7000007629, 7.599999904600001, 12.399999618499999, 31.3999996185, 20.0, 10.800000190699999, 42.0, 10.899999618499999, 57.9000015259, 17.0, 7.099999904600001, 19.2000007629, 18.6000003815, 23.8999996185, 35.5, 16.7000007629, 34.0999984741, 3.2999999523000003, 1.7000000477000001, 53.9000015259, 5.400000095399999, 23.7999992371, 8.5, 6.900000095399999, 45.9000015259, 17.1000003815, 21.0, 21.7999992371, 10.3999996185, 25.7999992371, 29.3999996185, 34.5999984741, 10.899999618499999, 11.0, 44.0999984741, 30.5, 28.7999992371, 6.5, 3.5, 17.3999996185, 14.699999809300001, 0.8999999762, 10.3999996185, 19.3999996185, 20.7000007629, 4.5999999046, 48.9000015259, 19.1000003815, 33.0, 21.5, 16.0, 19.2999992371, 2.9000000954000003, 20.2000007629, 8.5, 5.1999998093, 26.8999996185, 9.8999996185, 50.7999992371, 10.5, 13.600000381500001, 9.5, 39.5, 9.3000001907, 40.7000007629, 46.5999984741, 21.2000007629, 13.800000190699999, 6.6999998092999995, 13.9430995948, 38.7000007629, 7.099999904600001, 13.600000381500001, 7.599999904600001, 11.100000381500001, 8.3999996185, 4.0, 14.600000381500001, 18.7999992371, 8.6000003815, 11.0, 9.1999998093, 16.3999996185, 5.400000095399999, 24.0, 27.7999992371, 10.6000003815, 36.7999992371, 9.3000001907, 17.1987833422, 1.2999999523, 25.1000003815, 12.899999618499999, 0.6999999881, 29.5, 23.2999992371, 13.0, 9.6000003815, 9.5, 4.9000000954, 11.699999809300001, 10.6000003815, 49.5, 17.8999996185, 31.1000003815, 20.7999992371, 22.7999992371, 42.5999984741, 30.1000003815, 10.5, 10.6999998093, 3.9000000954000003, 15.5, 20.2000007629, 14.0, 10.6000003815, 31.7999992371, 17.7000007629, 5.5, 6.8000001907000005, 16.8999996185, 19.1000003815, 14.0, 20.2999992371, 17.1000003815, 6.3000001907000005, 29.8999996185, 52.5999984741, 11.899999618499999, 25.1000003815, 9.3999996185]}],\n",
       "                        {\"hovermode\": \"closest\", \"showlegend\": false, \"template\": {\"data\": {\"bar\": [{\"error_x\": {\"color\": \"#2a3f5f\"}, \"error_y\": {\"color\": \"#2a3f5f\"}, \"marker\": {\"line\": {\"color\": \"#E5ECF6\", \"width\": 0.5}}, \"type\": \"bar\"}], \"barpolar\": [{\"marker\": {\"line\": {\"color\": \"#E5ECF6\", \"width\": 0.5}}, \"type\": \"barpolar\"}], \"carpet\": [{\"aaxis\": {\"endlinecolor\": \"#2a3f5f\", \"gridcolor\": \"white\", \"linecolor\": \"white\", \"minorgridcolor\": \"white\", \"startlinecolor\": \"#2a3f5f\"}, \"baxis\": {\"endlinecolor\": \"#2a3f5f\", \"gridcolor\": \"white\", \"linecolor\": \"white\", \"minorgridcolor\": \"white\", \"startlinecolor\": \"#2a3f5f\"}, \"type\": \"carpet\"}], \"choropleth\": [{\"colorbar\": {\"outlinewidth\": 0, \"ticks\": \"\"}, \"type\": \"choropleth\"}], \"contour\": [{\"colorbar\": {\"outlinewidth\": 0, \"ticks\": \"\"}, \"colorscale\": [[0.0, \"#0d0887\"], [0.1111111111111111, \"#46039f\"], [0.2222222222222222, \"#7201a8\"], [0.3333333333333333, \"#9c179e\"], [0.4444444444444444, \"#bd3786\"], [0.5555555555555556, \"#d8576b\"], [0.6666666666666666, \"#ed7953\"], [0.7777777777777778, \"#fb9f3a\"], [0.8888888888888888, \"#fdca26\"], [1.0, \"#f0f921\"]], \"type\": \"contour\"}], \"contourcarpet\": [{\"colorbar\": {\"outlinewidth\": 0, \"ticks\": \"\"}, \"type\": \"contourcarpet\"}], \"heatmap\": [{\"colorbar\": {\"outlinewidth\": 0, \"ticks\": \"\"}, \"colorscale\": [[0.0, \"#0d0887\"], [0.1111111111111111, \"#46039f\"], [0.2222222222222222, \"#7201a8\"], [0.3333333333333333, \"#9c179e\"], [0.4444444444444444, \"#bd3786\"], [0.5555555555555556, \"#d8576b\"], [0.6666666666666666, \"#ed7953\"], [0.7777777777777778, \"#fb9f3a\"], [0.8888888888888888, \"#fdca26\"], [1.0, \"#f0f921\"]], \"type\": \"heatmap\"}], \"heatmapgl\": [{\"colorbar\": {\"outlinewidth\": 0, \"ticks\": \"\"}, \"colorscale\": [[0.0, \"#0d0887\"], [0.1111111111111111, \"#46039f\"], [0.2222222222222222, \"#7201a8\"], [0.3333333333333333, \"#9c179e\"], [0.4444444444444444, \"#bd3786\"], [0.5555555555555556, \"#d8576b\"], [0.6666666666666666, \"#ed7953\"], [0.7777777777777778, \"#fb9f3a\"], [0.8888888888888888, \"#fdca26\"], [1.0, \"#f0f921\"]], \"type\": \"heatmapgl\"}], \"histogram\": [{\"marker\": {\"colorbar\": {\"outlinewidth\": 0, \"ticks\": \"\"}}, \"type\": \"histogram\"}], \"histogram2d\": [{\"colorbar\": {\"outlinewidth\": 0, \"ticks\": \"\"}, \"colorscale\": [[0.0, \"#0d0887\"], [0.1111111111111111, \"#46039f\"], [0.2222222222222222, \"#7201a8\"], [0.3333333333333333, \"#9c179e\"], [0.4444444444444444, \"#bd3786\"], [0.5555555555555556, \"#d8576b\"], [0.6666666666666666, \"#ed7953\"], [0.7777777777777778, \"#fb9f3a\"], [0.8888888888888888, \"#fdca26\"], [1.0, \"#f0f921\"]], \"type\": \"histogram2d\"}], \"histogram2dcontour\": [{\"colorbar\": {\"outlinewidth\": 0, \"ticks\": \"\"}, \"colorscale\": [[0.0, \"#0d0887\"], [0.1111111111111111, \"#46039f\"], [0.2222222222222222, \"#7201a8\"], [0.3333333333333333, \"#9c179e\"], [0.4444444444444444, \"#bd3786\"], [0.5555555555555556, \"#d8576b\"], [0.6666666666666666, \"#ed7953\"], [0.7777777777777778, \"#fb9f3a\"], [0.8888888888888888, \"#fdca26\"], [1.0, \"#f0f921\"]], \"type\": \"histogram2dcontour\"}], \"mesh3d\": [{\"colorbar\": {\"outlinewidth\": 0, \"ticks\": \"\"}, \"type\": \"mesh3d\"}], \"parcoords\": [{\"line\": {\"colorbar\": {\"outlinewidth\": 0, \"ticks\": \"\"}}, \"type\": \"parcoords\"}], \"scatter\": [{\"marker\": {\"colorbar\": {\"outlinewidth\": 0, \"ticks\": \"\"}}, \"type\": \"scatter\"}], \"scatter3d\": [{\"line\": {\"colorbar\": {\"outlinewidth\": 0, \"ticks\": \"\"}}, \"marker\": {\"colorbar\": {\"outlinewidth\": 0, \"ticks\": \"\"}}, \"type\": \"scatter3d\"}], \"scattercarpet\": [{\"marker\": {\"colorbar\": {\"outlinewidth\": 0, \"ticks\": \"\"}}, \"type\": \"scattercarpet\"}], \"scattergeo\": [{\"marker\": {\"colorbar\": {\"outlinewidth\": 0, \"ticks\": \"\"}}, \"type\": \"scattergeo\"}], \"scattergl\": [{\"marker\": {\"colorbar\": {\"outlinewidth\": 0, \"ticks\": \"\"}}, \"type\": \"scattergl\"}], \"scattermapbox\": [{\"marker\": {\"colorbar\": {\"outlinewidth\": 0, \"ticks\": \"\"}}, \"type\": \"scattermapbox\"}], \"scatterpolar\": [{\"marker\": {\"colorbar\": {\"outlinewidth\": 0, \"ticks\": \"\"}}, \"type\": \"scatterpolar\"}], \"scatterpolargl\": [{\"marker\": {\"colorbar\": {\"outlinewidth\": 0, \"ticks\": \"\"}}, \"type\": \"scatterpolargl\"}], \"scatterternary\": [{\"marker\": {\"colorbar\": {\"outlinewidth\": 0, \"ticks\": \"\"}}, \"type\": \"scatterternary\"}], \"surface\": [{\"colorbar\": {\"outlinewidth\": 0, \"ticks\": \"\"}, \"colorscale\": [[0.0, \"#0d0887\"], [0.1111111111111111, \"#46039f\"], [0.2222222222222222, \"#7201a8\"], [0.3333333333333333, \"#9c179e\"], [0.4444444444444444, \"#bd3786\"], [0.5555555555555556, \"#d8576b\"], [0.6666666666666666, \"#ed7953\"], [0.7777777777777778, \"#fb9f3a\"], [0.8888888888888888, \"#fdca26\"], [1.0, \"#f0f921\"]], \"type\": \"surface\"}], \"table\": [{\"cells\": {\"fill\": {\"color\": \"#EBF0F8\"}, \"line\": {\"color\": \"white\"}}, \"header\": {\"fill\": {\"color\": \"#C8D4E3\"}, \"line\": {\"color\": \"white\"}}, \"type\": \"table\"}]}, \"layout\": {\"annotationdefaults\": {\"arrowcolor\": \"#2a3f5f\", \"arrowhead\": 0, \"arrowwidth\": 1}, \"colorscale\": {\"diverging\": [[0, \"#8e0152\"], [0.1, \"#c51b7d\"], [0.2, \"#de77ae\"], [0.3, \"#f1b6da\"], [0.4, \"#fde0ef\"], [0.5, \"#f7f7f7\"], [0.6, \"#e6f5d0\"], [0.7, \"#b8e186\"], [0.8, \"#7fbc41\"], [0.9, \"#4d9221\"], [1, \"#276419\"]], \"sequential\": [[0.0, \"#0d0887\"], [0.1111111111111111, \"#46039f\"], [0.2222222222222222, \"#7201a8\"], [0.3333333333333333, \"#9c179e\"], [0.4444444444444444, \"#bd3786\"], [0.5555555555555556, \"#d8576b\"], [0.6666666666666666, \"#ed7953\"], [0.7777777777777778, \"#fb9f3a\"], [0.8888888888888888, \"#fdca26\"], [1.0, \"#f0f921\"]], \"sequentialminus\": [[0.0, \"#0d0887\"], [0.1111111111111111, \"#46039f\"], [0.2222222222222222, \"#7201a8\"], [0.3333333333333333, \"#9c179e\"], [0.4444444444444444, \"#bd3786\"], [0.5555555555555556, \"#d8576b\"], [0.6666666666666666, \"#ed7953\"], [0.7777777777777778, \"#fb9f3a\"], [0.8888888888888888, \"#fdca26\"], [1.0, \"#f0f921\"]]}, \"colorway\": [\"#636efa\", \"#EF553B\", \"#00cc96\", \"#ab63fa\", \"#FFA15A\", \"#19d3f3\", \"#FF6692\", \"#B6E880\", \"#FF97FF\", \"#FECB52\"], \"font\": {\"color\": \"#2a3f5f\"}, \"geo\": {\"bgcolor\": \"white\", \"lakecolor\": \"white\", \"landcolor\": \"#E5ECF6\", \"showlakes\": true, \"showland\": true, \"subunitcolor\": \"white\"}, \"hoverlabel\": {\"align\": \"left\"}, \"hovermode\": \"closest\", \"mapbox\": {\"style\": \"light\"}, \"paper_bgcolor\": \"white\", \"plot_bgcolor\": \"#E5ECF6\", \"polar\": {\"angularaxis\": {\"gridcolor\": \"white\", \"linecolor\": \"white\", \"ticks\": \"\"}, \"bgcolor\": \"#E5ECF6\", \"radialaxis\": {\"gridcolor\": \"white\", \"linecolor\": \"white\", \"ticks\": \"\"}}, \"scene\": {\"xaxis\": {\"backgroundcolor\": \"#E5ECF6\", \"gridcolor\": \"white\", \"gridwidth\": 2, \"linecolor\": \"white\", \"showbackground\": true, \"ticks\": \"\", \"zerolinecolor\": \"white\"}, \"yaxis\": {\"backgroundcolor\": \"#E5ECF6\", \"gridcolor\": \"white\", \"gridwidth\": 2, \"linecolor\": \"white\", \"showbackground\": true, \"ticks\": \"\", \"zerolinecolor\": \"white\"}, \"zaxis\": {\"backgroundcolor\": \"#E5ECF6\", \"gridcolor\": \"white\", \"gridwidth\": 2, \"linecolor\": \"white\", \"showbackground\": true, \"ticks\": \"\", \"zerolinecolor\": \"white\"}}, \"shapedefaults\": {\"line\": {\"color\": \"#2a3f5f\"}}, \"ternary\": {\"aaxis\": {\"gridcolor\": \"white\", \"linecolor\": \"white\", \"ticks\": \"\"}, \"baxis\": {\"gridcolor\": \"white\", \"linecolor\": \"white\", \"ticks\": \"\"}, \"bgcolor\": \"#E5ECF6\", \"caxis\": {\"gridcolor\": \"white\", \"linecolor\": \"white\", \"ticks\": \"\"}}, \"title\": {\"x\": 0.05}, \"xaxis\": {\"automargin\": true, \"gridcolor\": \"white\", \"linecolor\": \"white\", \"ticks\": \"\", \"zerolinecolor\": \"white\", \"zerolinewidth\": 2}, \"yaxis\": {\"automargin\": true, \"gridcolor\": \"white\", \"linecolor\": \"white\", \"ticks\": \"\", \"zerolinecolor\": \"white\", \"zerolinewidth\": 2}}}, \"title\": {\"text\": \"Scatter plot of unemployment rates in 2014\"}, \"xaxis\": {\"gridwidth\": 2, \"ticklen\": 5, \"zeroline\": false}, \"yaxis\": {\"gridwidth\": 2, \"ticklen\": 5, \"title\": {\"text\": \"Unemployment Rate\"}}},\n",
       "                        {\"responsive\": true}\n",
       "                    ).then(function(){\n",
       "                            \n",
       "var gd = document.getElementById('e23f470d-b6c8-4ef2-a19c-faba82e348b8');\n",
       "var x = new MutationObserver(function (mutations, observer) {{\n",
       "        var display = window.getComputedStyle(gd).display;\n",
       "        if (!display || display === 'none') {{\n",
       "            console.log([gd, 'removed!']);\n",
       "            Plotly.purge(gd);\n",
       "            observer.disconnect();\n",
       "        }}\n",
       "}});\n",
       "\n",
       "// Listen for the removal of the full notebook cells\n",
       "var notebookContainer = gd.closest('#notebook-container');\n",
       "if (notebookContainer) {{\n",
       "    x.observe(notebookContainer, {childList: true});\n",
       "}}\n",
       "\n",
       "// Listen for the clearing of the current output cell\n",
       "var outputEl = gd.closest('.output');\n",
       "if (outputEl) {{\n",
       "    x.observe(outputEl, {childList: true});\n",
       "}}\n",
       "\n",
       "                        })\n",
       "                };\n",
       "                });\n",
       "            </script>\n",
       "        </div>"
      ]
     },
     "metadata": {},
     "output_type": "display_data"
    }
   ],
   "source": [
    "# Scatter plot of 2014 unemployment rates\n",
    "\n",
    "trace1 = go.Scatter(\n",
    "    y = UnemploymentCleaned['2014'].values,\n",
    "    mode = 'markers',\n",
    "    marker = dict(\n",
    "        size = UnemploymentCleaned['2014'].values,\n",
    "        color = UnemploymentCleaned['2014'].values,\n",
    "        colorscale='Portland',\n",
    "        showscale = True\n",
    "    ),\n",
    "    text = UnemploymentCleaned['Country Code'].values,\n",
    "    hoverinfo = 'text',\n",
    ")\n",
    "data = [trace1]\n",
    "\n",
    "layout = go.Layout(\n",
    "    title = 'Scatter plot of unemployment rates in 2014',\n",
    "    hovermode = 'closest',\n",
    "    xaxis = dict(\n",
    "        ticklen = 5,\n",
    "        zeroline = False,\n",
    "        gridwidth = 2,\n",
    "    ),\n",
    "    yaxis = dict(\n",
    "        title = 'Unemployment Rate',\n",
    "        ticklen = 5,\n",
    "        gridwidth = 2,\n",
    "    ),\n",
    "    showlegend = False\n",
    ")\n",
    "\n",
    "fig = go.Figure(data=data, layout=layout)\n",
    "py.iplot(fig,filename='scatter2014')"
   ]
  },
  {
   "cell_type": "code",
   "execution_count": 233,
   "metadata": {},
   "outputs": [
    {
     "data": {
      "text/html": [
       "<div>\n",
       "<style>\n",
       "    .dataframe thead tr:only-child th {\n",
       "        text-align: right;\n",
       "    }\n",
       "\n",
       "    .dataframe thead th {\n",
       "        text-align: left;\n",
       "    }\n",
       "\n",
       "    .dataframe tbody tr th {\n",
       "        vertical-align: top;\n",
       "    }\n",
       "</style>\n",
       "<table border=\"1\" class=\"dataframe\">\n",
       "  <thead>\n",
       "    <tr style=\"text-align: right;\">\n",
       "      <th></th>\n",
       "      <th>Country Code</th>\n",
       "      <th>2010</th>\n",
       "      <th>2011</th>\n",
       "      <th>2012</th>\n",
       "      <th>2013</th>\n",
       "      <th>2014</th>\n",
       "      <th>Total Change</th>\n",
       "    </tr>\n",
       "    <tr>\n",
       "      <th>Country Name</th>\n",
       "      <th></th>\n",
       "      <th></th>\n",
       "      <th></th>\n",
       "      <th></th>\n",
       "      <th></th>\n",
       "      <th></th>\n",
       "      <th></th>\n",
       "    </tr>\n",
       "  </thead>\n",
       "  <tbody>\n",
       "    <tr>\n",
       "      <th>Afghanistan</th>\n",
       "      <td>AFG</td>\n",
       "      <td>20.600000</td>\n",
       "      <td>20.900000</td>\n",
       "      <td>19.700001</td>\n",
       "      <td>21.100000</td>\n",
       "      <td>20.799999</td>\n",
       "      <td>0.199999</td>\n",
       "    </tr>\n",
       "    <tr>\n",
       "      <th>Angola</th>\n",
       "      <td>AGO</td>\n",
       "      <td>10.800000</td>\n",
       "      <td>10.700000</td>\n",
       "      <td>10.700000</td>\n",
       "      <td>10.600000</td>\n",
       "      <td>10.500000</td>\n",
       "      <td>-0.300000</td>\n",
       "    </tr>\n",
       "    <tr>\n",
       "      <th>Albania</th>\n",
       "      <td>ALB</td>\n",
       "      <td>25.799999</td>\n",
       "      <td>27.000000</td>\n",
       "      <td>28.299999</td>\n",
       "      <td>28.700001</td>\n",
       "      <td>29.200001</td>\n",
       "      <td>3.400002</td>\n",
       "    </tr>\n",
       "    <tr>\n",
       "      <th>Argentina</th>\n",
       "      <td>ARG</td>\n",
       "      <td>19.500000</td>\n",
       "      <td>18.799999</td>\n",
       "      <td>18.400000</td>\n",
       "      <td>19.700001</td>\n",
       "      <td>21.299999</td>\n",
       "      <td>1.799999</td>\n",
       "    </tr>\n",
       "    <tr>\n",
       "      <th>Armenia</th>\n",
       "      <td>ARM</td>\n",
       "      <td>38.299999</td>\n",
       "      <td>38.700001</td>\n",
       "      <td>35.000000</td>\n",
       "      <td>32.500000</td>\n",
       "      <td>35.099998</td>\n",
       "      <td>-3.200001</td>\n",
       "    </tr>\n",
       "    <tr>\n",
       "      <th>Australia</th>\n",
       "      <td>AUS</td>\n",
       "      <td>11.400000</td>\n",
       "      <td>11.400000</td>\n",
       "      <td>11.700000</td>\n",
       "      <td>12.200000</td>\n",
       "      <td>13.100000</td>\n",
       "      <td>1.700001</td>\n",
       "    </tr>\n",
       "    <tr>\n",
       "      <th>Austria</th>\n",
       "      <td>AUT</td>\n",
       "      <td>8.800000</td>\n",
       "      <td>8.200000</td>\n",
       "      <td>8.700000</td>\n",
       "      <td>9.100000</td>\n",
       "      <td>9.200000</td>\n",
       "      <td>0.400000</td>\n",
       "    </tr>\n",
       "    <tr>\n",
       "      <th>Azerbaijan</th>\n",
       "      <td>AZE</td>\n",
       "      <td>14.600000</td>\n",
       "      <td>14.500000</td>\n",
       "      <td>14.300000</td>\n",
       "      <td>13.400000</td>\n",
       "      <td>13.600000</td>\n",
       "      <td>-1.000000</td>\n",
       "    </tr>\n",
       "    <tr>\n",
       "      <th>Burundi</th>\n",
       "      <td>BDI</td>\n",
       "      <td>10.800000</td>\n",
       "      <td>10.800000</td>\n",
       "      <td>10.800000</td>\n",
       "      <td>10.800000</td>\n",
       "      <td>10.700000</td>\n",
       "      <td>-0.100000</td>\n",
       "    </tr>\n",
       "    <tr>\n",
       "      <th>Belgium</th>\n",
       "      <td>BEL</td>\n",
       "      <td>22.500000</td>\n",
       "      <td>18.600000</td>\n",
       "      <td>19.700001</td>\n",
       "      <td>23.100000</td>\n",
       "      <td>23.600000</td>\n",
       "      <td>1.100000</td>\n",
       "    </tr>\n",
       "  </tbody>\n",
       "</table>\n",
       "</div>"
      ],
      "text/plain": [
       "             Country Code       2010       2011       2012       2013  \\\n",
       "Country Name                                                            \n",
       "Afghanistan           AFG  20.600000  20.900000  19.700001  21.100000   \n",
       "Angola                AGO  10.800000  10.700000  10.700000  10.600000   \n",
       "Albania               ALB  25.799999  27.000000  28.299999  28.700001   \n",
       "Argentina             ARG  19.500000  18.799999  18.400000  19.700001   \n",
       "Armenia               ARM  38.299999  38.700001  35.000000  32.500000   \n",
       "Australia             AUS  11.400000  11.400000  11.700000  12.200000   \n",
       "Austria               AUT   8.800000   8.200000   8.700000   9.100000   \n",
       "Azerbaijan            AZE  14.600000  14.500000  14.300000  13.400000   \n",
       "Burundi               BDI  10.800000  10.800000  10.800000  10.800000   \n",
       "Belgium               BEL  22.500000  18.600000  19.700001  23.100000   \n",
       "\n",
       "                   2014  Total Change  \n",
       "Country Name                           \n",
       "Afghanistan   20.799999      0.199999  \n",
       "Angola        10.500000     -0.300000  \n",
       "Albania       29.200001      3.400002  \n",
       "Argentina     21.299999      1.799999  \n",
       "Armenia       35.099998     -3.200001  \n",
       "Australia     13.100000      1.700001  \n",
       "Austria        9.200000      0.400000  \n",
       "Azerbaijan    13.600000     -1.000000  \n",
       "Burundi       10.700000     -0.100000  \n",
       "Belgium       23.600000      1.100000  "
      ]
     },
     "execution_count": 233,
     "metadata": {},
     "output_type": "execute_result"
    }
   ],
   "source": [
    "# Graphing total unemployment rate change (2014 - 2010)\n",
    "\n",
    "UnemploymentCleaned[\"Total Change\"] = UnemploymentCleaned[\"2014\"].values - UnemploymentCleaned[\"2010\"].values\n",
    "TotalChange = UnemploymentCleaned[\"2014\"].values - UnemploymentCleaned[\"2010\"].values\n",
    "UnemploymentCleaned.head(10)"
   ]
  },
  {
   "cell_type": "code",
   "execution_count": 234,
   "metadata": {},
   "outputs": [
    {
     "name": "stdout",
     "output_type": "stream",
     "text": [
      "                 Country Code       2010       2011       2012       2013  \\\n",
      "Country Name                                                                \n",
      "Afghanistan               AFG  20.600000  20.900000  19.700001  21.100000   \n",
      "Angola                    AGO  10.800000  10.700000  10.700000  10.600000   \n",
      "Albania                   ALB  25.799999  27.000000  28.299999  28.700001   \n",
      "Argentina                 ARG  19.500000  18.799999  18.400000  19.700001   \n",
      "Armenia                   ARM  38.299999  38.700001  35.000000  32.500000   \n",
      "Australia                 AUS  11.400000  11.400000  11.700000  12.200000   \n",
      "Austria                   AUT   8.800000   8.200000   8.700000   9.100000   \n",
      "Azerbaijan                AZE  14.600000  14.500000  14.300000  13.400000   \n",
      "Burundi                   BDI  10.800000  10.800000  10.800000  10.800000   \n",
      "Belgium                   BEL  22.500000  18.600000  19.700001  23.100000   \n",
      "Uruguay                   URY  20.799999  17.900000  18.500000  18.100000   \n",
      "United States             USA  18.700001  17.400000  16.500000  15.800000   \n",
      "Uzbekistan                UZB  20.600000  20.600000  20.600000  20.500000   \n",
      "Venezuela, RB             VEN  17.500000  17.400000  17.100000  14.800000   \n",
      "Vietnam                   VNM   6.100000   5.300000   5.000000   6.300000   \n",
      "Yemen, Rep.               YEM  30.299999  30.000000  30.200001  30.200001   \n",
      "South Africa              ZAF  50.799999  50.099998  52.200001  51.400002   \n",
      "Congo, Dem. Rep.          COD  12.300000  12.300000  12.300000  12.200000   \n",
      "Zambia                    ZMB  26.400000  26.600000  26.600000  25.500000   \n",
      "Zimbabwe                  ZWE   9.600000   8.300000   8.300000   8.900000   \n",
      "\n",
      "                       2014  Total Change  \n",
      "Country Name                               \n",
      "Afghanistan       20.799999      0.199999  \n",
      "Angola            10.500000     -0.300000  \n",
      "Albania           29.200001      3.400002  \n",
      "Argentina         21.299999      1.799999  \n",
      "Armenia           35.099998     -3.200001  \n",
      "Australia         13.100000      1.700001  \n",
      "Austria            9.200000      0.400000  \n",
      "Azerbaijan        13.600000     -1.000000  \n",
      "Burundi           10.700000     -0.100000  \n",
      "Belgium           23.600000      1.100000  \n",
      "Uruguay           19.100000     -1.699999  \n",
      "United States     14.000000     -4.700001  \n",
      "Uzbekistan        20.299999     -0.300001  \n",
      "Venezuela, RB     17.100000     -0.400000  \n",
      "Vietnam            6.300000      0.200000  \n",
      "Yemen, Rep.       29.900000     -0.400000  \n",
      "South Africa      52.599998      1.799999  \n",
      "Congo, Dem. Rep.  11.900000     -0.400001  \n",
      "Zambia            25.100000     -1.299999  \n",
      "Zimbabwe           9.400000     -0.200001  \n"
     ]
    }
   ],
   "source": [
    "# Keeping only top 10 and bottom 10 unemployment rate change\n",
    "\n",
    "TopBottom10 = UnemploymentCleaned.iloc[np.r_[0:10, -10:0]]\n",
    "print (TopBottom10)"
   ]
  },
  {
   "cell_type": "code",
   "execution_count": 235,
   "metadata": {},
   "outputs": [
    {
     "name": "stdout",
     "output_type": "stream",
     "text": [
      "                 Country Code       2010       2011       2012       2013  \\\n",
      "Country Name                                                                \n",
      "Albania                   ALB  25.799999  27.000000  28.299999  28.700001   \n",
      "Argentina                 ARG  19.500000  18.799999  18.400000  19.700001   \n",
      "South Africa              ZAF  50.799999  50.099998  52.200001  51.400002   \n",
      "Australia                 AUS  11.400000  11.400000  11.700000  12.200000   \n",
      "Belgium                   BEL  22.500000  18.600000  19.700001  23.100000   \n",
      "Austria                   AUT   8.800000   8.200000   8.700000   9.100000   \n",
      "Vietnam                   VNM   6.100000   5.300000   5.000000   6.300000   \n",
      "Afghanistan               AFG  20.600000  20.900000  19.700001  21.100000   \n",
      "Burundi                   BDI  10.800000  10.800000  10.800000  10.800000   \n",
      "Zimbabwe                  ZWE   9.600000   8.300000   8.300000   8.900000   \n",
      "Angola                    AGO  10.800000  10.700000  10.700000  10.600000   \n",
      "Uzbekistan                UZB  20.600000  20.600000  20.600000  20.500000   \n",
      "Venezuela, RB             VEN  17.500000  17.400000  17.100000  14.800000   \n",
      "Yemen, Rep.               YEM  30.299999  30.000000  30.200001  30.200001   \n",
      "Congo, Dem. Rep.          COD  12.300000  12.300000  12.300000  12.200000   \n",
      "Azerbaijan                AZE  14.600000  14.500000  14.300000  13.400000   \n",
      "Zambia                    ZMB  26.400000  26.600000  26.600000  25.500000   \n",
      "Uruguay                   URY  20.799999  17.900000  18.500000  18.100000   \n",
      "Armenia                   ARM  38.299999  38.700001  35.000000  32.500000   \n",
      "United States             USA  18.700001  17.400000  16.500000  15.800000   \n",
      "\n",
      "                       2014  Total Change  \n",
      "Country Name                               \n",
      "Albania           29.200001      3.400002  \n",
      "Argentina         21.299999      1.799999  \n",
      "South Africa      52.599998      1.799999  \n",
      "Australia         13.100000      1.700001  \n",
      "Belgium           23.600000      1.100000  \n",
      "Austria            9.200000      0.400000  \n",
      "Vietnam            6.300000      0.200000  \n",
      "Afghanistan       20.799999      0.199999  \n",
      "Burundi           10.700000     -0.100000  \n",
      "Zimbabwe           9.400000     -0.200001  \n",
      "Angola            10.500000     -0.300000  \n",
      "Uzbekistan        20.299999     -0.300001  \n",
      "Venezuela, RB     17.100000     -0.400000  \n",
      "Yemen, Rep.       29.900000     -0.400000  \n",
      "Congo, Dem. Rep.  11.900000     -0.400001  \n",
      "Azerbaijan        13.600000     -1.000000  \n",
      "Zambia            25.100000     -1.299999  \n",
      "Uruguay           19.100000     -1.699999  \n",
      "Armenia           35.099998     -3.200001  \n",
      "United States     14.000000     -4.700001  \n"
     ]
    }
   ],
   "source": [
    "# sorting based on Total Change\n",
    "\n",
    "TopBottom10Sorted = TopBottom10.sort_values(by=[\"Total Change\"], ascending = False)\n",
    "print (TopBottom10Sorted)"
   ]
  },
  {
   "cell_type": "code",
   "execution_count": 238,
   "metadata": {},
   "outputs": [
    {
     "data": {
      "image/png": "[encoded data removed]",
      "text/plain": [
       "<matplotlib.figure.Figure at 0x1647f0f0>"
      ]
     },
     "metadata": {},
     "output_type": "display_data"
    }
   ],
   "source": [
    "# plotting a horizontal bar chart for Total Change\n",
    "TopBottom10Sorted[\"Total Change\"].plot(figsize = (10, 13), title = \"Change in Unemployment\", kind = 'barh') \n",
    "\n",
    "plt.xlabel(\"Change in unemployment 2010 - 2014\")\n",
    "plt.ylabel(\"Countries\")\n",
    "plt.show()"
   ]
  },
  {
   "cell_type": "markdown",
   "metadata": {},
   "source": [
    "# 3. Conclusion"
   ]
  },
  {
   "cell_type": "markdown",
   "metadata": {},
   "source": [
    "The analysis of the youth unemployment data presents a rather difficult and challenging situation for the future. Based on the data, unemployment rate seems to be mostly steady and changes very slowly over the years. Looking at years 2010 and 2014, Bosnia and Herzegovinia and Spain had the highest unemployment rate while Rwanda and Cambodia had the lowest unemployment rate. One thing that stood out was the Spain was the 9th highest in 2010 but dramatically increased to 1st in 2014. When the total change of unemployment rate over the years was analyzed, United States had the highest change with reducing unemployment and Albania with the highest increase of unemployment. As times goes by, I believe wealthy countries will be able to reduce unemployment rate slowly and slowly while poor countries might have difficult time recovering from recession and improve unemployment. I do not think this is a light problem where we can hold off. For the improvement of economy and for better living condition for everyone, this problem should be taken seriously and come up with long-term solution.\n"
   ]
  },
  {
   "cell_type": "markdown",
   "metadata": {},
   "source": [
    "# Learning Process"
   ]
  },
  {
   "cell_type": "markdown",
   "metadata": {},
   "source": [
    "This project was definitely more difficult than the first project but also, it was very helpful in getting first-hand experience on research. Starting from scratch to come up with research idea, looking for datasets online and conducting an analysis on my own was definitely challenging. However, by doing so, I did learn and looked into a lot more about different types of packages and different forms of visualization which will definitely benefit me throughout the career in Data Science."
   ]
  }
 ],
 "metadata": {
  "kernelspec": {
   "display_name": "Python 3",
   "language": "python",
   "name": "python3"
  },
  "language_info": {
   "codemirror_mode": {
    "name": "ipython",
    "version": 3
   },
   "file_extension": ".py",
   "mimetype": "text/x-python",
   "name": "python",
   "nbconvert_exporter": "python",
   "pygments_lexer": "ipython3",
   "version": "3.6.2"
  }
 },
 "nbformat": 4,
 "nbformat_minor": 2
}
